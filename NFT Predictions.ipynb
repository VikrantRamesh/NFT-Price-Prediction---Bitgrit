{
 "cells": [
  {
   "cell_type": "code",
   "execution_count": 285,
   "id": "53ae9271",
   "metadata": {},
   "outputs": [],
   "source": [
    "import numpy as np\n",
    "import pandas as pd\n",
    "import matplotlib.pyplot as plt\n",
    "import seaborn as sns\n",
    "\n",
    "from sklearn import metrics\n",
    "from sklearn.linear_model import LinearRegression\n",
    "\n",
    "from sklearn.preprocessing import LabelEncoder\n",
    "from sklearn.model_selection import train_test_split\n",
    "from sklearn.tree import DecisionTreeRegressor\n",
    "from tqdm import tqdm"
   ]
  },
  {
   "cell_type": "code",
   "execution_count": 174,
   "id": "2eae7771",
   "metadata": {
    "scrolled": false
   },
   "outputs": [
    {
     "data": {
      "text/html": [
       "<div>\n",
       "<style scoped>\n",
       "    .dataframe tbody tr th:only-of-type {\n",
       "        vertical-align: middle;\n",
       "    }\n",
       "\n",
       "    .dataframe tbody tr th {\n",
       "        vertical-align: top;\n",
       "    }\n",
       "\n",
       "    .dataframe thead th {\n",
       "        text-align: right;\n",
       "    }\n",
       "</style>\n",
       "<table border=\"1\" class=\"dataframe\">\n",
       "  <thead>\n",
       "    <tr style=\"text-align: right;\">\n",
       "      <th></th>\n",
       "      <th>global_index</th>\n",
       "      <th>nft_id</th>\n",
       "      <th>collection_id</th>\n",
       "      <th>rarity_score</th>\n",
       "      <th>openrarity_score</th>\n",
       "      <th>openrarity_rank</th>\n",
       "      <th>openrarity_max_rank</th>\n",
       "      <th>last_sale_date</th>\n",
       "      <th>last_sale_price</th>\n",
       "    </tr>\n",
       "  </thead>\n",
       "  <tbody>\n",
       "    <tr>\n",
       "      <th>0</th>\n",
       "      <td>21928</td>\n",
       "      <td>0</td>\n",
       "      <td>49</td>\n",
       "      <td>2.000000</td>\n",
       "      <td>NaN</td>\n",
       "      <td>NaN</td>\n",
       "      <td>NaN</td>\n",
       "      <td>2022-11</td>\n",
       "      <td>1.266732</td>\n",
       "    </tr>\n",
       "    <tr>\n",
       "      <th>1</th>\n",
       "      <td>32621</td>\n",
       "      <td>0</td>\n",
       "      <td>45</td>\n",
       "      <td>97.077216</td>\n",
       "      <td>NaN</td>\n",
       "      <td>NaN</td>\n",
       "      <td>NaN</td>\n",
       "      <td>2021-08</td>\n",
       "      <td>1.200357</td>\n",
       "    </tr>\n",
       "    <tr>\n",
       "      <th>2</th>\n",
       "      <td>32622</td>\n",
       "      <td>1</td>\n",
       "      <td>45</td>\n",
       "      <td>139.453086</td>\n",
       "      <td>NaN</td>\n",
       "      <td>NaN</td>\n",
       "      <td>NaN</td>\n",
       "      <td>2022-08</td>\n",
       "      <td>3.180572</td>\n",
       "    </tr>\n",
       "    <tr>\n",
       "      <th>3</th>\n",
       "      <td>32623</td>\n",
       "      <td>2</td>\n",
       "      <td>45</td>\n",
       "      <td>127.753445</td>\n",
       "      <td>NaN</td>\n",
       "      <td>NaN</td>\n",
       "      <td>NaN</td>\n",
       "      <td>2021-08</td>\n",
       "      <td>3.502910</td>\n",
       "    </tr>\n",
       "    <tr>\n",
       "      <th>4</th>\n",
       "      <td>32624</td>\n",
       "      <td>3</td>\n",
       "      <td>45</td>\n",
       "      <td>112.315719</td>\n",
       "      <td>NaN</td>\n",
       "      <td>NaN</td>\n",
       "      <td>NaN</td>\n",
       "      <td>2022-09</td>\n",
       "      <td>4.009567</td>\n",
       "    </tr>\n",
       "  </tbody>\n",
       "</table>\n",
       "</div>"
      ],
      "text/plain": [
       "   global_index  nft_id  collection_id  rarity_score  openrarity_score  \\\n",
       "0         21928       0             49      2.000000               NaN   \n",
       "1         32621       0             45     97.077216               NaN   \n",
       "2         32622       1             45    139.453086               NaN   \n",
       "3         32623       2             45    127.753445               NaN   \n",
       "4         32624       3             45    112.315719               NaN   \n",
       "\n",
       "   openrarity_rank  openrarity_max_rank last_sale_date  last_sale_price  \n",
       "0              NaN                  NaN        2022-11         1.266732  \n",
       "1              NaN                  NaN        2021-08         1.200357  \n",
       "2              NaN                  NaN        2022-08         3.180572  \n",
       "3              NaN                  NaN        2021-08         3.502910  \n",
       "4              NaN                  NaN        2022-09         4.009567  "
      ]
     },
     "execution_count": 174,
     "metadata": {},
     "output_type": "execute_result"
    }
   ],
   "source": [
    "data_train = pd.read_csv(r\"E:\\My Doucuments\\Machine Learning\\NFT\\nfts_train.csv\")\n",
    "data_train.head()"
   ]
  },
  {
   "cell_type": "code",
   "execution_count": 175,
   "id": "07fe39f6",
   "metadata": {},
   "outputs": [
    {
     "data": {
      "text/plain": [
       "(309910, 9)"
      ]
     },
     "execution_count": 175,
     "metadata": {},
     "output_type": "execute_result"
    }
   ],
   "source": [
    "data_train.shape"
   ]
  },
  {
   "cell_type": "code",
   "execution_count": 176,
   "id": "6c7ce5a3",
   "metadata": {},
   "outputs": [
    {
     "data": {
      "text/html": [
       "<div>\n",
       "<style scoped>\n",
       "    .dataframe tbody tr th:only-of-type {\n",
       "        vertical-align: middle;\n",
       "    }\n",
       "\n",
       "    .dataframe tbody tr th {\n",
       "        vertical-align: top;\n",
       "    }\n",
       "\n",
       "    .dataframe thead th {\n",
       "        text-align: right;\n",
       "    }\n",
       "</style>\n",
       "<table border=\"1\" class=\"dataframe\">\n",
       "  <thead>\n",
       "    <tr style=\"text-align: right;\">\n",
       "      <th></th>\n",
       "      <th>global_index</th>\n",
       "      <th>nft_id</th>\n",
       "      <th>collection_id</th>\n",
       "      <th>rarity_score</th>\n",
       "      <th>openrarity_score</th>\n",
       "      <th>openrarity_rank</th>\n",
       "      <th>openrarity_max_rank</th>\n",
       "      <th>last_sale_date</th>\n",
       "    </tr>\n",
       "  </thead>\n",
       "  <tbody>\n",
       "    <tr>\n",
       "      <th>0</th>\n",
       "      <td>0</td>\n",
       "      <td>0</td>\n",
       "      <td>29</td>\n",
       "      <td>176.364208</td>\n",
       "      <td>NaN</td>\n",
       "      <td>NaN</td>\n",
       "      <td>NaN</td>\n",
       "      <td>2022-06</td>\n",
       "    </tr>\n",
       "    <tr>\n",
       "      <th>1</th>\n",
       "      <td>1</td>\n",
       "      <td>1</td>\n",
       "      <td>29</td>\n",
       "      <td>207.209228</td>\n",
       "      <td>NaN</td>\n",
       "      <td>NaN</td>\n",
       "      <td>NaN</td>\n",
       "      <td>2022-05</td>\n",
       "    </tr>\n",
       "    <tr>\n",
       "      <th>2</th>\n",
       "      <td>2</td>\n",
       "      <td>2</td>\n",
       "      <td>29</td>\n",
       "      <td>157.293414</td>\n",
       "      <td>NaN</td>\n",
       "      <td>NaN</td>\n",
       "      <td>NaN</td>\n",
       "      <td>2022-10</td>\n",
       "    </tr>\n",
       "    <tr>\n",
       "      <th>3</th>\n",
       "      <td>3</td>\n",
       "      <td>3</td>\n",
       "      <td>29</td>\n",
       "      <td>173.372185</td>\n",
       "      <td>NaN</td>\n",
       "      <td>NaN</td>\n",
       "      <td>NaN</td>\n",
       "      <td>2022-06</td>\n",
       "    </tr>\n",
       "    <tr>\n",
       "      <th>4</th>\n",
       "      <td>4</td>\n",
       "      <td>4</td>\n",
       "      <td>29</td>\n",
       "      <td>190.077584</td>\n",
       "      <td>NaN</td>\n",
       "      <td>NaN</td>\n",
       "      <td>NaN</td>\n",
       "      <td>2022-06</td>\n",
       "    </tr>\n",
       "  </tbody>\n",
       "</table>\n",
       "</div>"
      ],
      "text/plain": [
       "   global_index  nft_id  collection_id  rarity_score  openrarity_score  \\\n",
       "0             0       0             29    176.364208               NaN   \n",
       "1             1       1             29    207.209228               NaN   \n",
       "2             2       2             29    157.293414               NaN   \n",
       "3             3       3             29    173.372185               NaN   \n",
       "4             4       4             29    190.077584               NaN   \n",
       "\n",
       "   openrarity_rank  openrarity_max_rank last_sale_date  \n",
       "0              NaN                  NaN        2022-06  \n",
       "1              NaN                  NaN        2022-05  \n",
       "2              NaN                  NaN        2022-10  \n",
       "3              NaN                  NaN        2022-06  \n",
       "4              NaN                  NaN        2022-06  "
      ]
     },
     "execution_count": 176,
     "metadata": {},
     "output_type": "execute_result"
    }
   ],
   "source": [
    "data_test = pd.read_csv(r\"E:\\My Doucuments\\Machine Learning\\NFT\\nfts_predict.csv\")\n",
    "data_test.head()"
   ]
  },
  {
   "cell_type": "code",
   "execution_count": 177,
   "id": "1d5f319f",
   "metadata": {},
   "outputs": [
    {
     "data": {
      "text/plain": [
       "(181214, 8)"
      ]
     },
     "execution_count": 177,
     "metadata": {},
     "output_type": "execute_result"
    }
   ],
   "source": [
    "data_test.shape"
   ]
  },
  {
   "cell_type": "code",
   "execution_count": 178,
   "id": "2042c7fb",
   "metadata": {},
   "outputs": [],
   "source": [
    "data_train['source'] = \"Train\"\n",
    "data_test['source'] = \"Test\""
   ]
  },
  {
   "cell_type": "code",
   "execution_count": 179,
   "id": "c70ed8d7",
   "metadata": {
    "scrolled": false
   },
   "outputs": [
    {
     "data": {
      "text/html": [
       "<div>\n",
       "<style scoped>\n",
       "    .dataframe tbody tr th:only-of-type {\n",
       "        vertical-align: middle;\n",
       "    }\n",
       "\n",
       "    .dataframe tbody tr th {\n",
       "        vertical-align: top;\n",
       "    }\n",
       "\n",
       "    .dataframe thead th {\n",
       "        text-align: right;\n",
       "    }\n",
       "</style>\n",
       "<table border=\"1\" class=\"dataframe\">\n",
       "  <thead>\n",
       "    <tr style=\"text-align: right;\">\n",
       "      <th></th>\n",
       "      <th>global_index</th>\n",
       "      <th>nft_id</th>\n",
       "      <th>collection_id</th>\n",
       "      <th>rarity_score</th>\n",
       "      <th>openrarity_score</th>\n",
       "      <th>openrarity_rank</th>\n",
       "      <th>openrarity_max_rank</th>\n",
       "      <th>last_sale_date</th>\n",
       "      <th>last_sale_price</th>\n",
       "      <th>source</th>\n",
       "    </tr>\n",
       "  </thead>\n",
       "  <tbody>\n",
       "    <tr>\n",
       "      <th>0</th>\n",
       "      <td>21928</td>\n",
       "      <td>0</td>\n",
       "      <td>49</td>\n",
       "      <td>2.000000</td>\n",
       "      <td>NaN</td>\n",
       "      <td>NaN</td>\n",
       "      <td>NaN</td>\n",
       "      <td>2022-11</td>\n",
       "      <td>1.266732</td>\n",
       "      <td>Train</td>\n",
       "    </tr>\n",
       "    <tr>\n",
       "      <th>1</th>\n",
       "      <td>32621</td>\n",
       "      <td>0</td>\n",
       "      <td>45</td>\n",
       "      <td>97.077216</td>\n",
       "      <td>NaN</td>\n",
       "      <td>NaN</td>\n",
       "      <td>NaN</td>\n",
       "      <td>2021-08</td>\n",
       "      <td>1.200357</td>\n",
       "      <td>Train</td>\n",
       "    </tr>\n",
       "    <tr>\n",
       "      <th>2</th>\n",
       "      <td>32622</td>\n",
       "      <td>1</td>\n",
       "      <td>45</td>\n",
       "      <td>139.453086</td>\n",
       "      <td>NaN</td>\n",
       "      <td>NaN</td>\n",
       "      <td>NaN</td>\n",
       "      <td>2022-08</td>\n",
       "      <td>3.180572</td>\n",
       "      <td>Train</td>\n",
       "    </tr>\n",
       "    <tr>\n",
       "      <th>3</th>\n",
       "      <td>32623</td>\n",
       "      <td>2</td>\n",
       "      <td>45</td>\n",
       "      <td>127.753445</td>\n",
       "      <td>NaN</td>\n",
       "      <td>NaN</td>\n",
       "      <td>NaN</td>\n",
       "      <td>2021-08</td>\n",
       "      <td>3.502910</td>\n",
       "      <td>Train</td>\n",
       "    </tr>\n",
       "    <tr>\n",
       "      <th>4</th>\n",
       "      <td>32624</td>\n",
       "      <td>3</td>\n",
       "      <td>45</td>\n",
       "      <td>112.315719</td>\n",
       "      <td>NaN</td>\n",
       "      <td>NaN</td>\n",
       "      <td>NaN</td>\n",
       "      <td>2022-09</td>\n",
       "      <td>4.009567</td>\n",
       "      <td>Train</td>\n",
       "    </tr>\n",
       "    <tr>\n",
       "      <th>5</th>\n",
       "      <td>32625</td>\n",
       "      <td>4</td>\n",
       "      <td>45</td>\n",
       "      <td>179.395901</td>\n",
       "      <td>NaN</td>\n",
       "      <td>NaN</td>\n",
       "      <td>NaN</td>\n",
       "      <td>2021-08</td>\n",
       "      <td>2.001691</td>\n",
       "      <td>Train</td>\n",
       "    </tr>\n",
       "    <tr>\n",
       "      <th>6</th>\n",
       "      <td>32626</td>\n",
       "      <td>5</td>\n",
       "      <td>45</td>\n",
       "      <td>152.067286</td>\n",
       "      <td>NaN</td>\n",
       "      <td>NaN</td>\n",
       "      <td>NaN</td>\n",
       "      <td>2021-10</td>\n",
       "      <td>2.502283</td>\n",
       "      <td>Train</td>\n",
       "    </tr>\n",
       "    <tr>\n",
       "      <th>7</th>\n",
       "      <td>32627</td>\n",
       "      <td>6</td>\n",
       "      <td>45</td>\n",
       "      <td>139.320270</td>\n",
       "      <td>NaN</td>\n",
       "      <td>NaN</td>\n",
       "      <td>NaN</td>\n",
       "      <td>2022-08</td>\n",
       "      <td>3.191687</td>\n",
       "      <td>Train</td>\n",
       "    </tr>\n",
       "    <tr>\n",
       "      <th>8</th>\n",
       "      <td>32628</td>\n",
       "      <td>7</td>\n",
       "      <td>45</td>\n",
       "      <td>107.340146</td>\n",
       "      <td>NaN</td>\n",
       "      <td>NaN</td>\n",
       "      <td>NaN</td>\n",
       "      <td>2021-08</td>\n",
       "      <td>1.996968</td>\n",
       "      <td>Train</td>\n",
       "    </tr>\n",
       "    <tr>\n",
       "      <th>9</th>\n",
       "      <td>32629</td>\n",
       "      <td>8</td>\n",
       "      <td>45</td>\n",
       "      <td>144.603692</td>\n",
       "      <td>NaN</td>\n",
       "      <td>NaN</td>\n",
       "      <td>NaN</td>\n",
       "      <td>2022-10</td>\n",
       "      <td>2.730321</td>\n",
       "      <td>Train</td>\n",
       "    </tr>\n",
       "  </tbody>\n",
       "</table>\n",
       "</div>"
      ],
      "text/plain": [
       "   global_index  nft_id  collection_id  rarity_score  openrarity_score  \\\n",
       "0         21928       0             49      2.000000               NaN   \n",
       "1         32621       0             45     97.077216               NaN   \n",
       "2         32622       1             45    139.453086               NaN   \n",
       "3         32623       2             45    127.753445               NaN   \n",
       "4         32624       3             45    112.315719               NaN   \n",
       "5         32625       4             45    179.395901               NaN   \n",
       "6         32626       5             45    152.067286               NaN   \n",
       "7         32627       6             45    139.320270               NaN   \n",
       "8         32628       7             45    107.340146               NaN   \n",
       "9         32629       8             45    144.603692               NaN   \n",
       "\n",
       "   openrarity_rank  openrarity_max_rank last_sale_date  last_sale_price source  \n",
       "0              NaN                  NaN        2022-11         1.266732  Train  \n",
       "1              NaN                  NaN        2021-08         1.200357  Train  \n",
       "2              NaN                  NaN        2022-08         3.180572  Train  \n",
       "3              NaN                  NaN        2021-08         3.502910  Train  \n",
       "4              NaN                  NaN        2022-09         4.009567  Train  \n",
       "5              NaN                  NaN        2021-08         2.001691  Train  \n",
       "6              NaN                  NaN        2021-10         2.502283  Train  \n",
       "7              NaN                  NaN        2022-08         3.191687  Train  \n",
       "8              NaN                  NaN        2021-08         1.996968  Train  \n",
       "9              NaN                  NaN        2022-10         2.730321  Train  "
      ]
     },
     "execution_count": 179,
     "metadata": {},
     "output_type": "execute_result"
    }
   ],
   "source": [
    "data = pd.concat([data_train,data_test], ignore_index = True)\n",
    "data.head(10)"
   ]
  },
  {
   "cell_type": "code",
   "execution_count": 180,
   "id": "a9ce770e",
   "metadata": {},
   "outputs": [
    {
     "data": {
      "text/plain": [
       "(491124, 10)"
      ]
     },
     "execution_count": 180,
     "metadata": {},
     "output_type": "execute_result"
    }
   ],
   "source": [
    "data.shape"
   ]
  },
  {
   "cell_type": "code",
   "execution_count": 181,
   "id": "75254ca7",
   "metadata": {
    "scrolled": true
   },
   "outputs": [
    {
     "data": {
      "text/html": [
       "<div>\n",
       "<style scoped>\n",
       "    .dataframe tbody tr th:only-of-type {\n",
       "        vertical-align: middle;\n",
       "    }\n",
       "\n",
       "    .dataframe tbody tr th {\n",
       "        vertical-align: top;\n",
       "    }\n",
       "\n",
       "    .dataframe thead th {\n",
       "        text-align: right;\n",
       "    }\n",
       "</style>\n",
       "<table border=\"1\" class=\"dataframe\">\n",
       "  <thead>\n",
       "    <tr style=\"text-align: right;\">\n",
       "      <th></th>\n",
       "      <th>collection_id</th>\n",
       "      <th>n_tweets_in_range</th>\n",
       "      <th>avg_likes</th>\n",
       "      <th>avg_replies</th>\n",
       "      <th>avg_retweets</th>\n",
       "      <th>min_likes</th>\n",
       "      <th>min_replies</th>\n",
       "      <th>min_retweets</th>\n",
       "      <th>max_likes</th>\n",
       "      <th>max_replies</th>\n",
       "      <th>max_retweets</th>\n",
       "    </tr>\n",
       "  </thead>\n",
       "  <tbody>\n",
       "    <tr>\n",
       "      <th>0</th>\n",
       "      <td>0</td>\n",
       "      <td>2</td>\n",
       "      <td>183.000000</td>\n",
       "      <td>8.500000</td>\n",
       "      <td>41.000000</td>\n",
       "      <td>123</td>\n",
       "      <td>3</td>\n",
       "      <td>6</td>\n",
       "      <td>243</td>\n",
       "      <td>14</td>\n",
       "      <td>76</td>\n",
       "    </tr>\n",
       "    <tr>\n",
       "      <th>1</th>\n",
       "      <td>1</td>\n",
       "      <td>16</td>\n",
       "      <td>36.375000</td>\n",
       "      <td>3.562500</td>\n",
       "      <td>13.937500</td>\n",
       "      <td>0</td>\n",
       "      <td>0</td>\n",
       "      <td>0</td>\n",
       "      <td>125</td>\n",
       "      <td>21</td>\n",
       "      <td>34</td>\n",
       "    </tr>\n",
       "    <tr>\n",
       "      <th>2</th>\n",
       "      <td>2</td>\n",
       "      <td>1</td>\n",
       "      <td>15.000000</td>\n",
       "      <td>9.000000</td>\n",
       "      <td>1.000000</td>\n",
       "      <td>15</td>\n",
       "      <td>9</td>\n",
       "      <td>1</td>\n",
       "      <td>15</td>\n",
       "      <td>9</td>\n",
       "      <td>1</td>\n",
       "    </tr>\n",
       "    <tr>\n",
       "      <th>3</th>\n",
       "      <td>3</td>\n",
       "      <td>526</td>\n",
       "      <td>1.178707</td>\n",
       "      <td>0.306084</td>\n",
       "      <td>2.655894</td>\n",
       "      <td>0</td>\n",
       "      <td>0</td>\n",
       "      <td>0</td>\n",
       "      <td>21</td>\n",
       "      <td>8</td>\n",
       "      <td>13</td>\n",
       "    </tr>\n",
       "    <tr>\n",
       "      <th>4</th>\n",
       "      <td>4</td>\n",
       "      <td>26</td>\n",
       "      <td>8.153846</td>\n",
       "      <td>0.884615</td>\n",
       "      <td>1.153846</td>\n",
       "      <td>0</td>\n",
       "      <td>0</td>\n",
       "      <td>0</td>\n",
       "      <td>30</td>\n",
       "      <td>6</td>\n",
       "      <td>12</td>\n",
       "    </tr>\n",
       "    <tr>\n",
       "      <th>5</th>\n",
       "      <td>5</td>\n",
       "      <td>19</td>\n",
       "      <td>7.842105</td>\n",
       "      <td>5.157895</td>\n",
       "      <td>4.000000</td>\n",
       "      <td>0</td>\n",
       "      <td>0</td>\n",
       "      <td>0</td>\n",
       "      <td>67</td>\n",
       "      <td>75</td>\n",
       "      <td>55</td>\n",
       "    </tr>\n",
       "    <tr>\n",
       "      <th>6</th>\n",
       "      <td>6</td>\n",
       "      <td>12</td>\n",
       "      <td>0.000000</td>\n",
       "      <td>0.000000</td>\n",
       "      <td>111.833333</td>\n",
       "      <td>0</td>\n",
       "      <td>0</td>\n",
       "      <td>31</td>\n",
       "      <td>0</td>\n",
       "      <td>0</td>\n",
       "      <td>463</td>\n",
       "    </tr>\n",
       "    <tr>\n",
       "      <th>7</th>\n",
       "      <td>7</td>\n",
       "      <td>12</td>\n",
       "      <td>0.000000</td>\n",
       "      <td>0.000000</td>\n",
       "      <td>111.833333</td>\n",
       "      <td>0</td>\n",
       "      <td>0</td>\n",
       "      <td>31</td>\n",
       "      <td>0</td>\n",
       "      <td>0</td>\n",
       "      <td>463</td>\n",
       "    </tr>\n",
       "  </tbody>\n",
       "</table>\n",
       "</div>"
      ],
      "text/plain": [
       "   collection_id  n_tweets_in_range   avg_likes  avg_replies  avg_retweets  \\\n",
       "0              0                  2  183.000000     8.500000     41.000000   \n",
       "1              1                 16   36.375000     3.562500     13.937500   \n",
       "2              2                  1   15.000000     9.000000      1.000000   \n",
       "3              3                526    1.178707     0.306084      2.655894   \n",
       "4              4                 26    8.153846     0.884615      1.153846   \n",
       "5              5                 19    7.842105     5.157895      4.000000   \n",
       "6              6                 12    0.000000     0.000000    111.833333   \n",
       "7              7                 12    0.000000     0.000000    111.833333   \n",
       "\n",
       "   min_likes  min_replies  min_retweets  max_likes  max_replies  max_retweets  \n",
       "0        123            3             6        243           14            76  \n",
       "1          0            0             0        125           21            34  \n",
       "2         15            9             1         15            9             1  \n",
       "3          0            0             0         21            8            13  \n",
       "4          0            0             0         30            6            12  \n",
       "5          0            0             0         67           75            55  \n",
       "6          0            0            31          0            0           463  \n",
       "7          0            0            31          0            0           463  "
      ]
     },
     "execution_count": 181,
     "metadata": {},
     "output_type": "execute_result"
    }
   ],
   "source": [
    "twitter_stats = pd.read_csv(r\"E:\\My Doucuments\\Machine Learning\\NFT\\collections_twitter_stats.csv\")\n",
    "twitter_stats.head(8)"
   ]
  },
  {
   "cell_type": "code",
   "execution_count": 182,
   "id": "c108f6c2",
   "metadata": {},
   "outputs": [
    {
     "data": {
      "text/plain": [
       "(48, 11)"
      ]
     },
     "execution_count": 182,
     "metadata": {},
     "output_type": "execute_result"
    }
   ],
   "source": [
    "twitter_stats.shape"
   ]
  },
  {
   "cell_type": "code",
   "execution_count": 183,
   "id": "a165de2e",
   "metadata": {
    "scrolled": false
   },
   "outputs": [
    {
     "data": {
      "text/html": [
       "<div>\n",
       "<style scoped>\n",
       "    .dataframe tbody tr th:only-of-type {\n",
       "        vertical-align: middle;\n",
       "    }\n",
       "\n",
       "    .dataframe tbody tr th {\n",
       "        vertical-align: top;\n",
       "    }\n",
       "\n",
       "    .dataframe thead th {\n",
       "        text-align: right;\n",
       "    }\n",
       "</style>\n",
       "<table border=\"1\" class=\"dataframe\">\n",
       "  <thead>\n",
       "    <tr style=\"text-align: right;\">\n",
       "      <th></th>\n",
       "      <th>global_index</th>\n",
       "      <th>nft_id</th>\n",
       "      <th>collection_id</th>\n",
       "      <th>rarity_score</th>\n",
       "      <th>openrarity_score</th>\n",
       "      <th>openrarity_rank</th>\n",
       "      <th>openrarity_max_rank</th>\n",
       "      <th>last_sale_date</th>\n",
       "      <th>last_sale_price</th>\n",
       "      <th>source</th>\n",
       "      <th>n_tweets_in_range</th>\n",
       "      <th>avg_likes</th>\n",
       "      <th>avg_replies</th>\n",
       "      <th>avg_retweets</th>\n",
       "      <th>min_likes</th>\n",
       "      <th>min_replies</th>\n",
       "      <th>min_retweets</th>\n",
       "      <th>max_likes</th>\n",
       "      <th>max_replies</th>\n",
       "      <th>max_retweets</th>\n",
       "    </tr>\n",
       "  </thead>\n",
       "  <tbody>\n",
       "    <tr>\n",
       "      <th>0</th>\n",
       "      <td>21928</td>\n",
       "      <td>0</td>\n",
       "      <td>49</td>\n",
       "      <td>2.000000</td>\n",
       "      <td>NaN</td>\n",
       "      <td>NaN</td>\n",
       "      <td>NaN</td>\n",
       "      <td>2022-11</td>\n",
       "      <td>1.266732</td>\n",
       "      <td>Train</td>\n",
       "      <td>31</td>\n",
       "      <td>187.967742</td>\n",
       "      <td>8.290323</td>\n",
       "      <td>60.935484</td>\n",
       "      <td>0</td>\n",
       "      <td>0</td>\n",
       "      <td>2</td>\n",
       "      <td>591</td>\n",
       "      <td>28</td>\n",
       "      <td>380</td>\n",
       "    </tr>\n",
       "    <tr>\n",
       "      <th>1</th>\n",
       "      <td>32621</td>\n",
       "      <td>0</td>\n",
       "      <td>45</td>\n",
       "      <td>97.077216</td>\n",
       "      <td>NaN</td>\n",
       "      <td>NaN</td>\n",
       "      <td>NaN</td>\n",
       "      <td>2021-08</td>\n",
       "      <td>1.200357</td>\n",
       "      <td>Train</td>\n",
       "      <td>11</td>\n",
       "      <td>133.181818</td>\n",
       "      <td>13.454545</td>\n",
       "      <td>55.181818</td>\n",
       "      <td>0</td>\n",
       "      <td>0</td>\n",
       "      <td>7</td>\n",
       "      <td>402</td>\n",
       "      <td>47</td>\n",
       "      <td>239</td>\n",
       "    </tr>\n",
       "    <tr>\n",
       "      <th>2</th>\n",
       "      <td>32622</td>\n",
       "      <td>1</td>\n",
       "      <td>45</td>\n",
       "      <td>139.453086</td>\n",
       "      <td>NaN</td>\n",
       "      <td>NaN</td>\n",
       "      <td>NaN</td>\n",
       "      <td>2022-08</td>\n",
       "      <td>3.180572</td>\n",
       "      <td>Train</td>\n",
       "      <td>11</td>\n",
       "      <td>133.181818</td>\n",
       "      <td>13.454545</td>\n",
       "      <td>55.181818</td>\n",
       "      <td>0</td>\n",
       "      <td>0</td>\n",
       "      <td>7</td>\n",
       "      <td>402</td>\n",
       "      <td>47</td>\n",
       "      <td>239</td>\n",
       "    </tr>\n",
       "    <tr>\n",
       "      <th>3</th>\n",
       "      <td>32623</td>\n",
       "      <td>2</td>\n",
       "      <td>45</td>\n",
       "      <td>127.753445</td>\n",
       "      <td>NaN</td>\n",
       "      <td>NaN</td>\n",
       "      <td>NaN</td>\n",
       "      <td>2021-08</td>\n",
       "      <td>3.502910</td>\n",
       "      <td>Train</td>\n",
       "      <td>11</td>\n",
       "      <td>133.181818</td>\n",
       "      <td>13.454545</td>\n",
       "      <td>55.181818</td>\n",
       "      <td>0</td>\n",
       "      <td>0</td>\n",
       "      <td>7</td>\n",
       "      <td>402</td>\n",
       "      <td>47</td>\n",
       "      <td>239</td>\n",
       "    </tr>\n",
       "    <tr>\n",
       "      <th>4</th>\n",
       "      <td>32624</td>\n",
       "      <td>3</td>\n",
       "      <td>45</td>\n",
       "      <td>112.315719</td>\n",
       "      <td>NaN</td>\n",
       "      <td>NaN</td>\n",
       "      <td>NaN</td>\n",
       "      <td>2022-09</td>\n",
       "      <td>4.009567</td>\n",
       "      <td>Train</td>\n",
       "      <td>11</td>\n",
       "      <td>133.181818</td>\n",
       "      <td>13.454545</td>\n",
       "      <td>55.181818</td>\n",
       "      <td>0</td>\n",
       "      <td>0</td>\n",
       "      <td>7</td>\n",
       "      <td>402</td>\n",
       "      <td>47</td>\n",
       "      <td>239</td>\n",
       "    </tr>\n",
       "    <tr>\n",
       "      <th>...</th>\n",
       "      <td>...</td>\n",
       "      <td>...</td>\n",
       "      <td>...</td>\n",
       "      <td>...</td>\n",
       "      <td>...</td>\n",
       "      <td>...</td>\n",
       "      <td>...</td>\n",
       "      <td>...</td>\n",
       "      <td>...</td>\n",
       "      <td>...</td>\n",
       "      <td>...</td>\n",
       "      <td>...</td>\n",
       "      <td>...</td>\n",
       "      <td>...</td>\n",
       "      <td>...</td>\n",
       "      <td>...</td>\n",
       "      <td>...</td>\n",
       "      <td>...</td>\n",
       "      <td>...</td>\n",
       "      <td>...</td>\n",
       "    </tr>\n",
       "    <tr>\n",
       "      <th>491119</th>\n",
       "      <td>618137</td>\n",
       "      <td>7140</td>\n",
       "      <td>42</td>\n",
       "      <td>134.963415</td>\n",
       "      <td>NaN</td>\n",
       "      <td>NaN</td>\n",
       "      <td>NaN</td>\n",
       "      <td>2021-04</td>\n",
       "      <td>NaN</td>\n",
       "      <td>Test</td>\n",
       "      <td>668</td>\n",
       "      <td>1.252994</td>\n",
       "      <td>0.302395</td>\n",
       "      <td>0.314371</td>\n",
       "      <td>0</td>\n",
       "      <td>0</td>\n",
       "      <td>0</td>\n",
       "      <td>80</td>\n",
       "      <td>6</td>\n",
       "      <td>13</td>\n",
       "    </tr>\n",
       "    <tr>\n",
       "      <th>491120</th>\n",
       "      <td>618138</td>\n",
       "      <td>7141</td>\n",
       "      <td>42</td>\n",
       "      <td>128.686047</td>\n",
       "      <td>NaN</td>\n",
       "      <td>NaN</td>\n",
       "      <td>NaN</td>\n",
       "      <td>2021-04</td>\n",
       "      <td>NaN</td>\n",
       "      <td>Test</td>\n",
       "      <td>668</td>\n",
       "      <td>1.252994</td>\n",
       "      <td>0.302395</td>\n",
       "      <td>0.314371</td>\n",
       "      <td>0</td>\n",
       "      <td>0</td>\n",
       "      <td>0</td>\n",
       "      <td>80</td>\n",
       "      <td>6</td>\n",
       "      <td>13</td>\n",
       "    </tr>\n",
       "    <tr>\n",
       "      <th>491121</th>\n",
       "      <td>618139</td>\n",
       "      <td>7142</td>\n",
       "      <td>42</td>\n",
       "      <td>22134.000000</td>\n",
       "      <td>NaN</td>\n",
       "      <td>NaN</td>\n",
       "      <td>NaN</td>\n",
       "      <td>2021-04</td>\n",
       "      <td>NaN</td>\n",
       "      <td>Test</td>\n",
       "      <td>668</td>\n",
       "      <td>1.252994</td>\n",
       "      <td>0.302395</td>\n",
       "      <td>0.314371</td>\n",
       "      <td>0</td>\n",
       "      <td>0</td>\n",
       "      <td>0</td>\n",
       "      <td>80</td>\n",
       "      <td>6</td>\n",
       "      <td>13</td>\n",
       "    </tr>\n",
       "    <tr>\n",
       "      <th>491122</th>\n",
       "      <td>618140</td>\n",
       "      <td>7143</td>\n",
       "      <td>42</td>\n",
       "      <td>22134.000000</td>\n",
       "      <td>NaN</td>\n",
       "      <td>NaN</td>\n",
       "      <td>NaN</td>\n",
       "      <td>2021-04</td>\n",
       "      <td>NaN</td>\n",
       "      <td>Test</td>\n",
       "      <td>668</td>\n",
       "      <td>1.252994</td>\n",
       "      <td>0.302395</td>\n",
       "      <td>0.314371</td>\n",
       "      <td>0</td>\n",
       "      <td>0</td>\n",
       "      <td>0</td>\n",
       "      <td>80</td>\n",
       "      <td>6</td>\n",
       "      <td>13</td>\n",
       "    </tr>\n",
       "    <tr>\n",
       "      <th>491123</th>\n",
       "      <td>618141</td>\n",
       "      <td>7144</td>\n",
       "      <td>42</td>\n",
       "      <td>130.970414</td>\n",
       "      <td>NaN</td>\n",
       "      <td>NaN</td>\n",
       "      <td>NaN</td>\n",
       "      <td>2021-03</td>\n",
       "      <td>NaN</td>\n",
       "      <td>Test</td>\n",
       "      <td>668</td>\n",
       "      <td>1.252994</td>\n",
       "      <td>0.302395</td>\n",
       "      <td>0.314371</td>\n",
       "      <td>0</td>\n",
       "      <td>0</td>\n",
       "      <td>0</td>\n",
       "      <td>80</td>\n",
       "      <td>6</td>\n",
       "      <td>13</td>\n",
       "    </tr>\n",
       "  </tbody>\n",
       "</table>\n",
       "<p>491124 rows × 20 columns</p>\n",
       "</div>"
      ],
      "text/plain": [
       "        global_index  nft_id  collection_id  rarity_score  openrarity_score  \\\n",
       "0              21928       0             49      2.000000               NaN   \n",
       "1              32621       0             45     97.077216               NaN   \n",
       "2              32622       1             45    139.453086               NaN   \n",
       "3              32623       2             45    127.753445               NaN   \n",
       "4              32624       3             45    112.315719               NaN   \n",
       "...              ...     ...            ...           ...               ...   \n",
       "491119        618137    7140             42    134.963415               NaN   \n",
       "491120        618138    7141             42    128.686047               NaN   \n",
       "491121        618139    7142             42  22134.000000               NaN   \n",
       "491122        618140    7143             42  22134.000000               NaN   \n",
       "491123        618141    7144             42    130.970414               NaN   \n",
       "\n",
       "        openrarity_rank  openrarity_max_rank last_sale_date  last_sale_price  \\\n",
       "0                   NaN                  NaN        2022-11         1.266732   \n",
       "1                   NaN                  NaN        2021-08         1.200357   \n",
       "2                   NaN                  NaN        2022-08         3.180572   \n",
       "3                   NaN                  NaN        2021-08         3.502910   \n",
       "4                   NaN                  NaN        2022-09         4.009567   \n",
       "...                 ...                  ...            ...              ...   \n",
       "491119              NaN                  NaN        2021-04              NaN   \n",
       "491120              NaN                  NaN        2021-04              NaN   \n",
       "491121              NaN                  NaN        2021-04              NaN   \n",
       "491122              NaN                  NaN        2021-04              NaN   \n",
       "491123              NaN                  NaN        2021-03              NaN   \n",
       "\n",
       "       source  n_tweets_in_range   avg_likes  avg_replies  avg_retweets  \\\n",
       "0       Train                 31  187.967742     8.290323     60.935484   \n",
       "1       Train                 11  133.181818    13.454545     55.181818   \n",
       "2       Train                 11  133.181818    13.454545     55.181818   \n",
       "3       Train                 11  133.181818    13.454545     55.181818   \n",
       "4       Train                 11  133.181818    13.454545     55.181818   \n",
       "...       ...                ...         ...          ...           ...   \n",
       "491119   Test                668    1.252994     0.302395      0.314371   \n",
       "491120   Test                668    1.252994     0.302395      0.314371   \n",
       "491121   Test                668    1.252994     0.302395      0.314371   \n",
       "491122   Test                668    1.252994     0.302395      0.314371   \n",
       "491123   Test                668    1.252994     0.302395      0.314371   \n",
       "\n",
       "        min_likes  min_replies  min_retweets  max_likes  max_replies  \\\n",
       "0               0            0             2        591           28   \n",
       "1               0            0             7        402           47   \n",
       "2               0            0             7        402           47   \n",
       "3               0            0             7        402           47   \n",
       "4               0            0             7        402           47   \n",
       "...           ...          ...           ...        ...          ...   \n",
       "491119          0            0             0         80            6   \n",
       "491120          0            0             0         80            6   \n",
       "491121          0            0             0         80            6   \n",
       "491122          0            0             0         80            6   \n",
       "491123          0            0             0         80            6   \n",
       "\n",
       "        max_retweets  \n",
       "0                380  \n",
       "1                239  \n",
       "2                239  \n",
       "3                239  \n",
       "4                239  \n",
       "...              ...  \n",
       "491119            13  \n",
       "491120            13  \n",
       "491121            13  \n",
       "491122            13  \n",
       "491123            13  \n",
       "\n",
       "[491124 rows x 20 columns]"
      ]
     },
     "execution_count": 183,
     "metadata": {},
     "output_type": "execute_result"
    }
   ],
   "source": [
    "data = pd.merge(data,twitter_stats, how=\"outer\", on = ['collection_id'])\n",
    "data"
   ]
  },
  {
   "cell_type": "code",
   "execution_count": 184,
   "id": "a84ea86e",
   "metadata": {},
   "outputs": [
    {
     "data": {
      "text/plain": [
       "(491124, 20)"
      ]
     },
     "execution_count": 184,
     "metadata": {},
     "output_type": "execute_result"
    }
   ],
   "source": [
    "data.shape"
   ]
  },
  {
   "cell_type": "code",
   "execution_count": 185,
   "id": "acbef682",
   "metadata": {},
   "outputs": [
    {
     "data": {
      "text/html": [
       "<div>\n",
       "<style scoped>\n",
       "    .dataframe tbody tr th:only-of-type {\n",
       "        vertical-align: middle;\n",
       "    }\n",
       "\n",
       "    .dataframe tbody tr th {\n",
       "        vertical-align: top;\n",
       "    }\n",
       "\n",
       "    .dataframe thead th {\n",
       "        text-align: right;\n",
       "    }\n",
       "</style>\n",
       "<table border=\"1\" class=\"dataframe\">\n",
       "  <thead>\n",
       "    <tr style=\"text-align: right;\">\n",
       "      <th></th>\n",
       "      <th>collection_id</th>\n",
       "      <th>total_supply</th>\n",
       "      <th>creation_date</th>\n",
       "      <th>verification_status</th>\n",
       "      <th>n_of_traits</th>\n",
       "      <th>contract_type</th>\n",
       "      <th>seller_fees</th>\n",
       "      <th>platform_fees</th>\n",
       "      <th>openrarity_enabled</th>\n",
       "      <th>has_website</th>\n",
       "      <th>has_own_twitter</th>\n",
       "      <th>has_discord</th>\n",
       "      <th>has_medium</th>\n",
       "    </tr>\n",
       "  </thead>\n",
       "  <tbody>\n",
       "    <tr>\n",
       "      <th>0</th>\n",
       "      <td>19</td>\n",
       "      <td>1000</td>\n",
       "      <td>2021-04</td>\n",
       "      <td>verified</td>\n",
       "      <td>4</td>\n",
       "      <td>own</td>\n",
       "      <td>500.0</td>\n",
       "      <td>250</td>\n",
       "      <td>False</td>\n",
       "      <td>False</td>\n",
       "      <td>True</td>\n",
       "      <td>True</td>\n",
       "      <td>True</td>\n",
       "    </tr>\n",
       "    <tr>\n",
       "      <th>1</th>\n",
       "      <td>45</td>\n",
       "      <td>8888</td>\n",
       "      <td>2021-07</td>\n",
       "      <td>verified</td>\n",
       "      <td>5</td>\n",
       "      <td>own</td>\n",
       "      <td>500.0</td>\n",
       "      <td>250</td>\n",
       "      <td>False</td>\n",
       "      <td>False</td>\n",
       "      <td>True</td>\n",
       "      <td>True</td>\n",
       "      <td>False</td>\n",
       "    </tr>\n",
       "    <tr>\n",
       "      <th>2</th>\n",
       "      <td>44</td>\n",
       "      <td>10000</td>\n",
       "      <td>2022-04</td>\n",
       "      <td>verified</td>\n",
       "      <td>8</td>\n",
       "      <td>own</td>\n",
       "      <td>500.0</td>\n",
       "      <td>250</td>\n",
       "      <td>True</td>\n",
       "      <td>False</td>\n",
       "      <td>True</td>\n",
       "      <td>True</td>\n",
       "      <td>False</td>\n",
       "    </tr>\n",
       "    <tr>\n",
       "      <th>3</th>\n",
       "      <td>53</td>\n",
       "      <td>9999</td>\n",
       "      <td>2022-07</td>\n",
       "      <td>verified</td>\n",
       "      <td>9</td>\n",
       "      <td>own</td>\n",
       "      <td>900.0</td>\n",
       "      <td>250</td>\n",
       "      <td>False</td>\n",
       "      <td>False</td>\n",
       "      <td>True</td>\n",
       "      <td>True</td>\n",
       "      <td>False</td>\n",
       "    </tr>\n",
       "    <tr>\n",
       "      <th>4</th>\n",
       "      <td>6</td>\n",
       "      <td>9602</td>\n",
       "      <td>2021-06</td>\n",
       "      <td>verified</td>\n",
       "      <td>8</td>\n",
       "      <td>own</td>\n",
       "      <td>NaN</td>\n",
       "      <td>250</td>\n",
       "      <td>False</td>\n",
       "      <td>False</td>\n",
       "      <td>True</td>\n",
       "      <td>True</td>\n",
       "      <td>False</td>\n",
       "    </tr>\n",
       "  </tbody>\n",
       "</table>\n",
       "</div>"
      ],
      "text/plain": [
       "   collection_id  total_supply creation_date verification_status  n_of_traits  \\\n",
       "0             19          1000       2021-04            verified            4   \n",
       "1             45          8888       2021-07            verified            5   \n",
       "2             44         10000       2022-04            verified            8   \n",
       "3             53          9999       2022-07            verified            9   \n",
       "4              6          9602       2021-06            verified            8   \n",
       "\n",
       "  contract_type  seller_fees  platform_fees  openrarity_enabled  has_website  \\\n",
       "0           own        500.0            250               False        False   \n",
       "1           own        500.0            250               False        False   \n",
       "2           own        500.0            250                True        False   \n",
       "3           own        900.0            250               False        False   \n",
       "4           own          NaN            250               False        False   \n",
       "\n",
       "   has_own_twitter  has_discord  has_medium  \n",
       "0             True         True        True  \n",
       "1             True         True       False  \n",
       "2             True         True       False  \n",
       "3             True         True       False  \n",
       "4             True         True       False  "
      ]
     },
     "execution_count": 185,
     "metadata": {},
     "output_type": "execute_result"
    }
   ],
   "source": [
    "collections = pd.read_csv(r\"E:\\My Doucuments\\Machine Learning\\NFT\\collections.csv\")\n",
    "collections.head()"
   ]
  },
  {
   "cell_type": "code",
   "execution_count": 186,
   "id": "84e94259",
   "metadata": {
    "scrolled": true
   },
   "outputs": [
    {
     "data": {
      "text/html": [
       "<div>\n",
       "<style scoped>\n",
       "    .dataframe tbody tr th:only-of-type {\n",
       "        vertical-align: middle;\n",
       "    }\n",
       "\n",
       "    .dataframe tbody tr th {\n",
       "        vertical-align: top;\n",
       "    }\n",
       "\n",
       "    .dataframe thead th {\n",
       "        text-align: right;\n",
       "    }\n",
       "</style>\n",
       "<table border=\"1\" class=\"dataframe\">\n",
       "  <thead>\n",
       "    <tr style=\"text-align: right;\">\n",
       "      <th></th>\n",
       "      <th>global_index</th>\n",
       "      <th>nft_id</th>\n",
       "      <th>collection_id</th>\n",
       "      <th>rarity_score</th>\n",
       "      <th>openrarity_score</th>\n",
       "      <th>openrarity_rank</th>\n",
       "      <th>openrarity_max_rank</th>\n",
       "      <th>last_sale_date</th>\n",
       "      <th>last_sale_price</th>\n",
       "      <th>source</th>\n",
       "      <th>n_tweets_in_range</th>\n",
       "      <th>avg_likes</th>\n",
       "      <th>avg_replies</th>\n",
       "      <th>avg_retweets</th>\n",
       "      <th>min_likes</th>\n",
       "      <th>min_replies</th>\n",
       "      <th>min_retweets</th>\n",
       "      <th>max_likes</th>\n",
       "      <th>max_replies</th>\n",
       "      <th>max_retweets</th>\n",
       "      <th>total_supply</th>\n",
       "      <th>creation_date</th>\n",
       "      <th>verification_status</th>\n",
       "      <th>n_of_traits</th>\n",
       "      <th>contract_type</th>\n",
       "      <th>seller_fees</th>\n",
       "      <th>platform_fees</th>\n",
       "      <th>openrarity_enabled</th>\n",
       "      <th>has_website</th>\n",
       "      <th>has_own_twitter</th>\n",
       "      <th>has_discord</th>\n",
       "      <th>has_medium</th>\n",
       "    </tr>\n",
       "  </thead>\n",
       "  <tbody>\n",
       "    <tr>\n",
       "      <th>0</th>\n",
       "      <td>21928</td>\n",
       "      <td>0</td>\n",
       "      <td>49</td>\n",
       "      <td>2.000000</td>\n",
       "      <td>NaN</td>\n",
       "      <td>NaN</td>\n",
       "      <td>NaN</td>\n",
       "      <td>2022-11</td>\n",
       "      <td>1.266732</td>\n",
       "      <td>Train</td>\n",
       "      <td>31</td>\n",
       "      <td>187.967742</td>\n",
       "      <td>8.290323</td>\n",
       "      <td>60.935484</td>\n",
       "      <td>0</td>\n",
       "      <td>0</td>\n",
       "      <td>2</td>\n",
       "      <td>591</td>\n",
       "      <td>28</td>\n",
       "      <td>380</td>\n",
       "      <td>1</td>\n",
       "      <td>2022-04</td>\n",
       "      <td>verified</td>\n",
       "      <td>2</td>\n",
       "      <td>own</td>\n",
       "      <td>1000.0</td>\n",
       "      <td>250</td>\n",
       "      <td>False</td>\n",
       "      <td>False</td>\n",
       "      <td>True</td>\n",
       "      <td>True</td>\n",
       "      <td>False</td>\n",
       "    </tr>\n",
       "    <tr>\n",
       "      <th>1</th>\n",
       "      <td>32621</td>\n",
       "      <td>0</td>\n",
       "      <td>45</td>\n",
       "      <td>97.077216</td>\n",
       "      <td>NaN</td>\n",
       "      <td>NaN</td>\n",
       "      <td>NaN</td>\n",
       "      <td>2021-08</td>\n",
       "      <td>1.200357</td>\n",
       "      <td>Train</td>\n",
       "      <td>11</td>\n",
       "      <td>133.181818</td>\n",
       "      <td>13.454545</td>\n",
       "      <td>55.181818</td>\n",
       "      <td>0</td>\n",
       "      <td>0</td>\n",
       "      <td>7</td>\n",
       "      <td>402</td>\n",
       "      <td>47</td>\n",
       "      <td>239</td>\n",
       "      <td>8888</td>\n",
       "      <td>2021-07</td>\n",
       "      <td>verified</td>\n",
       "      <td>5</td>\n",
       "      <td>own</td>\n",
       "      <td>500.0</td>\n",
       "      <td>250</td>\n",
       "      <td>False</td>\n",
       "      <td>False</td>\n",
       "      <td>True</td>\n",
       "      <td>True</td>\n",
       "      <td>False</td>\n",
       "    </tr>\n",
       "    <tr>\n",
       "      <th>2</th>\n",
       "      <td>32622</td>\n",
       "      <td>1</td>\n",
       "      <td>45</td>\n",
       "      <td>139.453086</td>\n",
       "      <td>NaN</td>\n",
       "      <td>NaN</td>\n",
       "      <td>NaN</td>\n",
       "      <td>2022-08</td>\n",
       "      <td>3.180572</td>\n",
       "      <td>Train</td>\n",
       "      <td>11</td>\n",
       "      <td>133.181818</td>\n",
       "      <td>13.454545</td>\n",
       "      <td>55.181818</td>\n",
       "      <td>0</td>\n",
       "      <td>0</td>\n",
       "      <td>7</td>\n",
       "      <td>402</td>\n",
       "      <td>47</td>\n",
       "      <td>239</td>\n",
       "      <td>8888</td>\n",
       "      <td>2021-07</td>\n",
       "      <td>verified</td>\n",
       "      <td>5</td>\n",
       "      <td>own</td>\n",
       "      <td>500.0</td>\n",
       "      <td>250</td>\n",
       "      <td>False</td>\n",
       "      <td>False</td>\n",
       "      <td>True</td>\n",
       "      <td>True</td>\n",
       "      <td>False</td>\n",
       "    </tr>\n",
       "    <tr>\n",
       "      <th>3</th>\n",
       "      <td>32623</td>\n",
       "      <td>2</td>\n",
       "      <td>45</td>\n",
       "      <td>127.753445</td>\n",
       "      <td>NaN</td>\n",
       "      <td>NaN</td>\n",
       "      <td>NaN</td>\n",
       "      <td>2021-08</td>\n",
       "      <td>3.502910</td>\n",
       "      <td>Train</td>\n",
       "      <td>11</td>\n",
       "      <td>133.181818</td>\n",
       "      <td>13.454545</td>\n",
       "      <td>55.181818</td>\n",
       "      <td>0</td>\n",
       "      <td>0</td>\n",
       "      <td>7</td>\n",
       "      <td>402</td>\n",
       "      <td>47</td>\n",
       "      <td>239</td>\n",
       "      <td>8888</td>\n",
       "      <td>2021-07</td>\n",
       "      <td>verified</td>\n",
       "      <td>5</td>\n",
       "      <td>own</td>\n",
       "      <td>500.0</td>\n",
       "      <td>250</td>\n",
       "      <td>False</td>\n",
       "      <td>False</td>\n",
       "      <td>True</td>\n",
       "      <td>True</td>\n",
       "      <td>False</td>\n",
       "    </tr>\n",
       "    <tr>\n",
       "      <th>4</th>\n",
       "      <td>32624</td>\n",
       "      <td>3</td>\n",
       "      <td>45</td>\n",
       "      <td>112.315719</td>\n",
       "      <td>NaN</td>\n",
       "      <td>NaN</td>\n",
       "      <td>NaN</td>\n",
       "      <td>2022-09</td>\n",
       "      <td>4.009567</td>\n",
       "      <td>Train</td>\n",
       "      <td>11</td>\n",
       "      <td>133.181818</td>\n",
       "      <td>13.454545</td>\n",
       "      <td>55.181818</td>\n",
       "      <td>0</td>\n",
       "      <td>0</td>\n",
       "      <td>7</td>\n",
       "      <td>402</td>\n",
       "      <td>47</td>\n",
       "      <td>239</td>\n",
       "      <td>8888</td>\n",
       "      <td>2021-07</td>\n",
       "      <td>verified</td>\n",
       "      <td>5</td>\n",
       "      <td>own</td>\n",
       "      <td>500.0</td>\n",
       "      <td>250</td>\n",
       "      <td>False</td>\n",
       "      <td>False</td>\n",
       "      <td>True</td>\n",
       "      <td>True</td>\n",
       "      <td>False</td>\n",
       "    </tr>\n",
       "  </tbody>\n",
       "</table>\n",
       "</div>"
      ],
      "text/plain": [
       "   global_index  nft_id  collection_id  rarity_score  openrarity_score  \\\n",
       "0         21928       0             49      2.000000               NaN   \n",
       "1         32621       0             45     97.077216               NaN   \n",
       "2         32622       1             45    139.453086               NaN   \n",
       "3         32623       2             45    127.753445               NaN   \n",
       "4         32624       3             45    112.315719               NaN   \n",
       "\n",
       "   openrarity_rank  openrarity_max_rank last_sale_date  last_sale_price  \\\n",
       "0              NaN                  NaN        2022-11         1.266732   \n",
       "1              NaN                  NaN        2021-08         1.200357   \n",
       "2              NaN                  NaN        2022-08         3.180572   \n",
       "3              NaN                  NaN        2021-08         3.502910   \n",
       "4              NaN                  NaN        2022-09         4.009567   \n",
       "\n",
       "  source  n_tweets_in_range   avg_likes  avg_replies  avg_retweets  min_likes  \\\n",
       "0  Train                 31  187.967742     8.290323     60.935484          0   \n",
       "1  Train                 11  133.181818    13.454545     55.181818          0   \n",
       "2  Train                 11  133.181818    13.454545     55.181818          0   \n",
       "3  Train                 11  133.181818    13.454545     55.181818          0   \n",
       "4  Train                 11  133.181818    13.454545     55.181818          0   \n",
       "\n",
       "   min_replies  min_retweets  max_likes  max_replies  max_retweets  \\\n",
       "0            0             2        591           28           380   \n",
       "1            0             7        402           47           239   \n",
       "2            0             7        402           47           239   \n",
       "3            0             7        402           47           239   \n",
       "4            0             7        402           47           239   \n",
       "\n",
       "   total_supply creation_date verification_status  n_of_traits contract_type  \\\n",
       "0             1       2022-04            verified            2           own   \n",
       "1          8888       2021-07            verified            5           own   \n",
       "2          8888       2021-07            verified            5           own   \n",
       "3          8888       2021-07            verified            5           own   \n",
       "4          8888       2021-07            verified            5           own   \n",
       "\n",
       "   seller_fees  platform_fees  openrarity_enabled  has_website  \\\n",
       "0       1000.0            250               False        False   \n",
       "1        500.0            250               False        False   \n",
       "2        500.0            250               False        False   \n",
       "3        500.0            250               False        False   \n",
       "4        500.0            250               False        False   \n",
       "\n",
       "   has_own_twitter  has_discord  has_medium  \n",
       "0             True         True       False  \n",
       "1             True         True       False  \n",
       "2             True         True       False  \n",
       "3             True         True       False  \n",
       "4             True         True       False  "
      ]
     },
     "execution_count": 186,
     "metadata": {},
     "output_type": "execute_result"
    }
   ],
   "source": [
    "df = pd.merge(data, collections, how=\"outer\", on = ['collection_id'])\n",
    "df.head()"
   ]
  },
  {
   "cell_type": "code",
   "execution_count": 187,
   "id": "16f61b77",
   "metadata": {},
   "outputs": [
    {
     "data": {
      "text/plain": [
       "(491124, 32)"
      ]
     },
     "execution_count": 187,
     "metadata": {},
     "output_type": "execute_result"
    }
   ],
   "source": [
    "df.shape"
   ]
  },
  {
   "cell_type": "markdown",
   "id": "6606b5bd",
   "metadata": {},
   "source": [
    "## Exploratory Data Analysis (EDA)"
   ]
  },
  {
   "cell_type": "code",
   "execution_count": 188,
   "id": "5c1af61f",
   "metadata": {
    "scrolled": false
   },
   "outputs": [
    {
     "name": "stdout",
     "output_type": "stream",
     "text": [
      "<class 'pandas.core.frame.DataFrame'>\n",
      "Int64Index: 491124 entries, 0 to 491123\n",
      "Data columns (total 32 columns):\n",
      " #   Column               Non-Null Count   Dtype  \n",
      "---  ------               --------------   -----  \n",
      " 0   global_index         491124 non-null  int64  \n",
      " 1   nft_id               491124 non-null  int64  \n",
      " 2   collection_id        491124 non-null  int64  \n",
      " 3   rarity_score         491124 non-null  float64\n",
      " 4   openrarity_score     119106 non-null  float64\n",
      " 5   openrarity_rank      119106 non-null  float64\n",
      " 6   openrarity_max_rank  119106 non-null  float64\n",
      " 7   last_sale_date       491124 non-null  object \n",
      " 8   last_sale_price      309910 non-null  float64\n",
      " 9   source               491124 non-null  object \n",
      " 10  n_tweets_in_range    491124 non-null  int64  \n",
      " 11  avg_likes            491124 non-null  float64\n",
      " 12  avg_replies          491124 non-null  float64\n",
      " 13  avg_retweets         491124 non-null  float64\n",
      " 14  min_likes            491124 non-null  int64  \n",
      " 15  min_replies          491124 non-null  int64  \n",
      " 16  min_retweets         491124 non-null  int64  \n",
      " 17  max_likes            491124 non-null  int64  \n",
      " 18  max_replies          491124 non-null  int64  \n",
      " 19  max_retweets         491124 non-null  int64  \n",
      " 20  total_supply         491124 non-null  int64  \n",
      " 21  creation_date        491124 non-null  object \n",
      " 22  verification_status  491124 non-null  object \n",
      " 23  n_of_traits          491124 non-null  int64  \n",
      " 24  contract_type        491124 non-null  object \n",
      " 25  seller_fees          458431 non-null  float64\n",
      " 26  platform_fees        491124 non-null  int64  \n",
      " 27  openrarity_enabled   491124 non-null  bool   \n",
      " 28  has_website          491124 non-null  bool   \n",
      " 29  has_own_twitter      491124 non-null  bool   \n",
      " 30  has_discord          491124 non-null  bool   \n",
      " 31  has_medium           491124 non-null  bool   \n",
      "dtypes: bool(5), float64(9), int64(13), object(5)\n",
      "memory usage: 107.3+ MB\n"
     ]
    }
   ],
   "source": [
    "df.info()"
   ]
  },
  {
   "cell_type": "code",
   "execution_count": 189,
   "id": "fb335a33",
   "metadata": {},
   "outputs": [],
   "source": [
    "pd.options.display.max_columns = None"
   ]
  },
  {
   "cell_type": "code",
   "execution_count": 190,
   "id": "a31fc21c",
   "metadata": {},
   "outputs": [
    {
     "data": {
      "text/html": [
       "<div>\n",
       "<style scoped>\n",
       "    .dataframe tbody tr th:only-of-type {\n",
       "        vertical-align: middle;\n",
       "    }\n",
       "\n",
       "    .dataframe tbody tr th {\n",
       "        vertical-align: top;\n",
       "    }\n",
       "\n",
       "    .dataframe thead th {\n",
       "        text-align: right;\n",
       "    }\n",
       "</style>\n",
       "<table border=\"1\" class=\"dataframe\">\n",
       "  <thead>\n",
       "    <tr style=\"text-align: right;\">\n",
       "      <th></th>\n",
       "      <th>global_index</th>\n",
       "      <th>nft_id</th>\n",
       "      <th>collection_id</th>\n",
       "      <th>rarity_score</th>\n",
       "      <th>openrarity_score</th>\n",
       "      <th>openrarity_rank</th>\n",
       "      <th>openrarity_max_rank</th>\n",
       "      <th>last_sale_price</th>\n",
       "      <th>n_tweets_in_range</th>\n",
       "      <th>avg_likes</th>\n",
       "      <th>avg_replies</th>\n",
       "      <th>avg_retweets</th>\n",
       "      <th>min_likes</th>\n",
       "      <th>min_replies</th>\n",
       "      <th>min_retweets</th>\n",
       "      <th>max_likes</th>\n",
       "      <th>max_replies</th>\n",
       "      <th>max_retweets</th>\n",
       "      <th>total_supply</th>\n",
       "      <th>n_of_traits</th>\n",
       "      <th>seller_fees</th>\n",
       "      <th>platform_fees</th>\n",
       "    </tr>\n",
       "  </thead>\n",
       "  <tbody>\n",
       "    <tr>\n",
       "      <th>count</th>\n",
       "      <td>491124.000000</td>\n",
       "      <td>491124.000000</td>\n",
       "      <td>491124.000000</td>\n",
       "      <td>491124.000000</td>\n",
       "      <td>119106.000000</td>\n",
       "      <td>119106.000000</td>\n",
       "      <td>119106.000000</td>\n",
       "      <td>3.099100e+05</td>\n",
       "      <td>491124.000000</td>\n",
       "      <td>491124.000000</td>\n",
       "      <td>491124.000000</td>\n",
       "      <td>491124.000000</td>\n",
       "      <td>491124.000000</td>\n",
       "      <td>491124.000000</td>\n",
       "      <td>491124.000000</td>\n",
       "      <td>491124.000000</td>\n",
       "      <td>491124.000000</td>\n",
       "      <td>491124.000000</td>\n",
       "      <td>491124.000000</td>\n",
       "      <td>491124.000000</td>\n",
       "      <td>458431.000000</td>\n",
       "      <td>491124.0</td>\n",
       "    </tr>\n",
       "    <tr>\n",
       "      <th>mean</th>\n",
       "      <td>314342.118687</td>\n",
       "      <td>8475.126591</td>\n",
       "      <td>29.863554</td>\n",
       "      <td>992.592973</td>\n",
       "      <td>1.000000</td>\n",
       "      <td>5222.424084</td>\n",
       "      <td>10440.518714</td>\n",
       "      <td>2.162269e+00</td>\n",
       "      <td>33.472891</td>\n",
       "      <td>76.811526</td>\n",
       "      <td>18.180304</td>\n",
       "      <td>36.475851</td>\n",
       "      <td>15.099486</td>\n",
       "      <td>3.908461</td>\n",
       "      <td>5.627960</td>\n",
       "      <td>251.916306</td>\n",
       "      <td>83.865305</td>\n",
       "      <td>150.174088</td>\n",
       "      <td>18130.201283</td>\n",
       "      <td>11.324932</td>\n",
       "      <td>668.056589</td>\n",
       "      <td>250.0</td>\n",
       "    </tr>\n",
       "    <tr>\n",
       "      <th>std</th>\n",
       "      <td>171016.990222</td>\n",
       "      <td>8788.308131</td>\n",
       "      <td>17.302700</td>\n",
       "      <td>3569.306554</td>\n",
       "      <td>0.155006</td>\n",
       "      <td>3579.656120</td>\n",
       "      <td>3340.138672</td>\n",
       "      <td>1.275132e+01</td>\n",
       "      <td>106.212299</td>\n",
       "      <td>161.066870</td>\n",
       "      <td>51.995005</td>\n",
       "      <td>80.185407</td>\n",
       "      <td>41.760935</td>\n",
       "      <td>10.077800</td>\n",
       "      <td>11.084891</td>\n",
       "      <td>745.279066</td>\n",
       "      <td>357.587370</td>\n",
       "      <td>436.473244</td>\n",
       "      <td>15171.179824</td>\n",
       "      <td>9.685436</td>\n",
       "      <td>268.229338</td>\n",
       "      <td>0.0</td>\n",
       "    </tr>\n",
       "    <tr>\n",
       "      <th>min</th>\n",
       "      <td>0.000000</td>\n",
       "      <td>0.000000</td>\n",
       "      <td>0.000000</td>\n",
       "      <td>0.000000</td>\n",
       "      <td>0.601661</td>\n",
       "      <td>1.000000</td>\n",
       "      <td>3332.000000</td>\n",
       "      <td>6.490000e-08</td>\n",
       "      <td>1.000000</td>\n",
       "      <td>0.000000</td>\n",
       "      <td>0.000000</td>\n",
       "      <td>0.000000</td>\n",
       "      <td>0.000000</td>\n",
       "      <td>0.000000</td>\n",
       "      <td>0.000000</td>\n",
       "      <td>0.000000</td>\n",
       "      <td>0.000000</td>\n",
       "      <td>0.000000</td>\n",
       "      <td>1.000000</td>\n",
       "      <td>0.000000</td>\n",
       "      <td>200.000000</td>\n",
       "      <td>250.0</td>\n",
       "    </tr>\n",
       "    <tr>\n",
       "      <th>25%</th>\n",
       "      <td>186199.750000</td>\n",
       "      <td>2701.000000</td>\n",
       "      <td>13.000000</td>\n",
       "      <td>114.449411</td>\n",
       "      <td>0.899691</td>\n",
       "      <td>2278.000000</td>\n",
       "      <td>9854.000000</td>\n",
       "      <td>4.077085e-03</td>\n",
       "      <td>3.000000</td>\n",
       "      <td>6.666667</td>\n",
       "      <td>0.884615</td>\n",
       "      <td>1.000000</td>\n",
       "      <td>0.000000</td>\n",
       "      <td>0.000000</td>\n",
       "      <td>0.000000</td>\n",
       "      <td>12.000000</td>\n",
       "      <td>4.000000</td>\n",
       "      <td>1.000000</td>\n",
       "      <td>9124.000000</td>\n",
       "      <td>8.000000</td>\n",
       "      <td>500.000000</td>\n",
       "      <td>250.0</td>\n",
       "    </tr>\n",
       "    <tr>\n",
       "      <th>50%</th>\n",
       "      <td>319074.500000</td>\n",
       "      <td>5751.000000</td>\n",
       "      <td>35.000000</td>\n",
       "      <td>173.653341</td>\n",
       "      <td>0.979058</td>\n",
       "      <td>4675.000000</td>\n",
       "      <td>9999.000000</td>\n",
       "      <td>8.103344e-03</td>\n",
       "      <td>5.000000</td>\n",
       "      <td>11.333333</td>\n",
       "      <td>4.000000</td>\n",
       "      <td>4.000000</td>\n",
       "      <td>0.000000</td>\n",
       "      <td>0.000000</td>\n",
       "      <td>1.000000</td>\n",
       "      <td>26.000000</td>\n",
       "      <td>9.000000</td>\n",
       "      <td>13.000000</td>\n",
       "      <td>10000.000000</td>\n",
       "      <td>9.000000</td>\n",
       "      <td>750.000000</td>\n",
       "      <td>250.0</td>\n",
       "    </tr>\n",
       "    <tr>\n",
       "      <th>75%</th>\n",
       "      <td>464529.250000</td>\n",
       "      <td>9943.000000</td>\n",
       "      <td>44.000000</td>\n",
       "      <td>267.680822</td>\n",
       "      <td>1.071452</td>\n",
       "      <td>7725.000000</td>\n",
       "      <td>15000.000000</td>\n",
       "      <td>3.252062e-01</td>\n",
       "      <td>19.000000</td>\n",
       "      <td>48.600000</td>\n",
       "      <td>9.000000</td>\n",
       "      <td>27.414634</td>\n",
       "      <td>10.000000</td>\n",
       "      <td>2.000000</td>\n",
       "      <td>4.000000</td>\n",
       "      <td>169.000000</td>\n",
       "      <td>47.000000</td>\n",
       "      <td>88.000000</td>\n",
       "      <td>24919.000000</td>\n",
       "      <td>12.000000</td>\n",
       "      <td>900.000000</td>\n",
       "      <td>250.0</td>\n",
       "    </tr>\n",
       "    <tr>\n",
       "      <th>max</th>\n",
       "      <td>618141.000000</td>\n",
       "      <td>48256.000000</td>\n",
       "      <td>60.000000</td>\n",
       "      <td>152922.000000</td>\n",
       "      <td>3.663833</td>\n",
       "      <td>15555.000000</td>\n",
       "      <td>15555.000000</td>\n",
       "      <td>1.024002e+03</td>\n",
       "      <td>668.000000</td>\n",
       "      <td>707.875000</td>\n",
       "      <td>353.400000</td>\n",
       "      <td>442.000000</td>\n",
       "      <td>236.000000</td>\n",
       "      <td>52.000000</td>\n",
       "      <td>46.000000</td>\n",
       "      <td>5079.000000</td>\n",
       "      <td>2601.000000</td>\n",
       "      <td>2990.000000</td>\n",
       "      <td>58351.000000</td>\n",
       "      <td>80.000000</td>\n",
       "      <td>1000.000000</td>\n",
       "      <td>250.0</td>\n",
       "    </tr>\n",
       "  </tbody>\n",
       "</table>\n",
       "</div>"
      ],
      "text/plain": [
       "        global_index         nft_id  collection_id   rarity_score  \\\n",
       "count  491124.000000  491124.000000  491124.000000  491124.000000   \n",
       "mean   314342.118687    8475.126591      29.863554     992.592973   \n",
       "std    171016.990222    8788.308131      17.302700    3569.306554   \n",
       "min         0.000000       0.000000       0.000000       0.000000   \n",
       "25%    186199.750000    2701.000000      13.000000     114.449411   \n",
       "50%    319074.500000    5751.000000      35.000000     173.653341   \n",
       "75%    464529.250000    9943.000000      44.000000     267.680822   \n",
       "max    618141.000000   48256.000000      60.000000  152922.000000   \n",
       "\n",
       "       openrarity_score  openrarity_rank  openrarity_max_rank  \\\n",
       "count     119106.000000    119106.000000        119106.000000   \n",
       "mean           1.000000      5222.424084         10440.518714   \n",
       "std            0.155006      3579.656120          3340.138672   \n",
       "min            0.601661         1.000000          3332.000000   \n",
       "25%            0.899691      2278.000000          9854.000000   \n",
       "50%            0.979058      4675.000000          9999.000000   \n",
       "75%            1.071452      7725.000000         15000.000000   \n",
       "max            3.663833     15555.000000         15555.000000   \n",
       "\n",
       "       last_sale_price  n_tweets_in_range      avg_likes    avg_replies  \\\n",
       "count     3.099100e+05      491124.000000  491124.000000  491124.000000   \n",
       "mean      2.162269e+00          33.472891      76.811526      18.180304   \n",
       "std       1.275132e+01         106.212299     161.066870      51.995005   \n",
       "min       6.490000e-08           1.000000       0.000000       0.000000   \n",
       "25%       4.077085e-03           3.000000       6.666667       0.884615   \n",
       "50%       8.103344e-03           5.000000      11.333333       4.000000   \n",
       "75%       3.252062e-01          19.000000      48.600000       9.000000   \n",
       "max       1.024002e+03         668.000000     707.875000     353.400000   \n",
       "\n",
       "        avg_retweets      min_likes    min_replies   min_retweets  \\\n",
       "count  491124.000000  491124.000000  491124.000000  491124.000000   \n",
       "mean       36.475851      15.099486       3.908461       5.627960   \n",
       "std        80.185407      41.760935      10.077800      11.084891   \n",
       "min         0.000000       0.000000       0.000000       0.000000   \n",
       "25%         1.000000       0.000000       0.000000       0.000000   \n",
       "50%         4.000000       0.000000       0.000000       1.000000   \n",
       "75%        27.414634      10.000000       2.000000       4.000000   \n",
       "max       442.000000     236.000000      52.000000      46.000000   \n",
       "\n",
       "           max_likes    max_replies   max_retweets   total_supply  \\\n",
       "count  491124.000000  491124.000000  491124.000000  491124.000000   \n",
       "mean      251.916306      83.865305     150.174088   18130.201283   \n",
       "std       745.279066     357.587370     436.473244   15171.179824   \n",
       "min         0.000000       0.000000       0.000000       1.000000   \n",
       "25%        12.000000       4.000000       1.000000    9124.000000   \n",
       "50%        26.000000       9.000000      13.000000   10000.000000   \n",
       "75%       169.000000      47.000000      88.000000   24919.000000   \n",
       "max      5079.000000    2601.000000    2990.000000   58351.000000   \n",
       "\n",
       "         n_of_traits    seller_fees  platform_fees  \n",
       "count  491124.000000  458431.000000       491124.0  \n",
       "mean       11.324932     668.056589          250.0  \n",
       "std         9.685436     268.229338            0.0  \n",
       "min         0.000000     200.000000          250.0  \n",
       "25%         8.000000     500.000000          250.0  \n",
       "50%         9.000000     750.000000          250.0  \n",
       "75%        12.000000     900.000000          250.0  \n",
       "max        80.000000    1000.000000          250.0  "
      ]
     },
     "execution_count": 190,
     "metadata": {},
     "output_type": "execute_result"
    }
   ],
   "source": [
    "df.describe()"
   ]
  },
  {
   "cell_type": "markdown",
   "id": "b861ab20",
   "metadata": {},
   "source": [
    "#### We note that platform fees column is same for all the NFT collections...so we can drop the column"
   ]
  },
  {
   "cell_type": "code",
   "execution_count": 191,
   "id": "168008cd",
   "metadata": {},
   "outputs": [],
   "source": [
    "df = df.drop(['platform_fees'], axis = 1)"
   ]
  },
  {
   "cell_type": "code",
   "execution_count": 192,
   "id": "33edfdcb",
   "metadata": {},
   "outputs": [
    {
     "data": {
      "text/plain": [
       "global_index                0\n",
       "nft_id                      0\n",
       "collection_id               0\n",
       "rarity_score                0\n",
       "openrarity_score       372018\n",
       "openrarity_rank        372018\n",
       "openrarity_max_rank    372018\n",
       "last_sale_date              0\n",
       "last_sale_price        181214\n",
       "source                      0\n",
       "n_tweets_in_range           0\n",
       "avg_likes                   0\n",
       "avg_replies                 0\n",
       "avg_retweets                0\n",
       "min_likes                   0\n",
       "min_replies                 0\n",
       "min_retweets                0\n",
       "max_likes                   0\n",
       "max_replies                 0\n",
       "max_retweets                0\n",
       "total_supply                0\n",
       "creation_date               0\n",
       "verification_status         0\n",
       "n_of_traits                 0\n",
       "contract_type               0\n",
       "seller_fees             32693\n",
       "openrarity_enabled          0\n",
       "has_website                 0\n",
       "has_own_twitter             0\n",
       "has_discord                 0\n",
       "has_medium                  0\n",
       "dtype: int64"
      ]
     },
     "execution_count": 192,
     "metadata": {},
     "output_type": "execute_result"
    }
   ],
   "source": [
    "df.isnull().sum()"
   ]
  },
  {
   "cell_type": "code",
   "execution_count": 193,
   "id": "15917f7c",
   "metadata": {},
   "outputs": [],
   "source": [
    "### We can fill the seller fees with the mean of the other seller fees"
   ]
  },
  {
   "cell_type": "code",
   "execution_count": 194,
   "id": "4e64aeab",
   "metadata": {},
   "outputs": [],
   "source": [
    "df['seller_fees'] = df['seller_fees'].fillna(collections['seller_fees'].mean())"
   ]
  },
  {
   "cell_type": "markdown",
   "id": "8efb8f1b",
   "metadata": {},
   "source": [
    "### Experiment 1: Dropping the openrarity_score, openrarity_rank, openrarity_max_rank, openrarity_enabled"
   ]
  },
  {
   "cell_type": "code",
   "execution_count": 195,
   "id": "7804bc79",
   "metadata": {},
   "outputs": [],
   "source": [
    "df = df.drop(['openrarity_score', 'openrarity_rank', 'openrarity_max_rank', 'openrarity_enabled'], axis = 1)"
   ]
  },
  {
   "cell_type": "code",
   "execution_count": 196,
   "id": "7e523dc3",
   "metadata": {},
   "outputs": [
    {
     "data": {
      "text/plain": [
       "global_index                0\n",
       "nft_id                      0\n",
       "collection_id               0\n",
       "rarity_score                0\n",
       "last_sale_date              0\n",
       "last_sale_price        181214\n",
       "source                      0\n",
       "n_tweets_in_range           0\n",
       "avg_likes                   0\n",
       "avg_replies                 0\n",
       "avg_retweets                0\n",
       "min_likes                   0\n",
       "min_replies                 0\n",
       "min_retweets                0\n",
       "max_likes                   0\n",
       "max_replies                 0\n",
       "max_retweets                0\n",
       "total_supply                0\n",
       "creation_date               0\n",
       "verification_status         0\n",
       "n_of_traits                 0\n",
       "contract_type               0\n",
       "seller_fees                 0\n",
       "has_website                 0\n",
       "has_own_twitter             0\n",
       "has_discord                 0\n",
       "has_medium                  0\n",
       "dtype: int64"
      ]
     },
     "execution_count": 196,
     "metadata": {},
     "output_type": "execute_result"
    }
   ],
   "source": [
    "df.isnull().sum()"
   ]
  },
  {
   "cell_type": "markdown",
   "id": "d43fdcdd",
   "metadata": {},
   "source": [
    "## Label encoding of catagorical data"
   ]
  },
  {
   "cell_type": "code",
   "execution_count": 197,
   "id": "272c4d4a",
   "metadata": {},
   "outputs": [],
   "source": [
    "le = LabelEncoder()"
   ]
  },
  {
   "cell_type": "code",
   "execution_count": 198,
   "id": "601c8610",
   "metadata": {},
   "outputs": [
    {
     "data": {
      "text/plain": [
       "array(['2022-11', '2021-08', '2022-08', '2022-09', '2021-10', '2022-10',\n",
       "       '2022-04', '2021-11', '2022-01', '2022-07', '2021-12', '2021-09',\n",
       "       '2022-02', '2022-06', '2022-03', '2022-05', '2021-07', '2021-05',\n",
       "       '2021-06', '2021-04', '2021-03', '2021-02'], dtype=object)"
      ]
     },
     "execution_count": 198,
     "metadata": {},
     "output_type": "execute_result"
    }
   ],
   "source": [
    "df.last_sale_date.unique()"
   ]
  },
  {
   "cell_type": "code",
   "execution_count": 199,
   "id": "721ce3f9",
   "metadata": {},
   "outputs": [],
   "source": [
    "def mod_year(date):\n",
    "    if(date[0:4] == \"2021\"):\n",
    "        return 0\n",
    "    else:\n",
    "        return 1\n",
    "def mod_date(date):\n",
    "    return int(date[5:])"
   ]
  },
  {
   "cell_type": "code",
   "execution_count": 200,
   "id": "a1e3b252",
   "metadata": {},
   "outputs": [],
   "source": [
    "df['year'] = df['last_sale_date'].apply(lambda x: mod_year(x))"
   ]
  },
  {
   "cell_type": "code",
   "execution_count": 201,
   "id": "99a72437",
   "metadata": {},
   "outputs": [],
   "source": [
    "df['day'] = df['last_sale_date'].apply(lambda x: mod_date(x))"
   ]
  },
  {
   "cell_type": "code",
   "execution_count": 202,
   "id": "3d991d3d",
   "metadata": {},
   "outputs": [
    {
     "data": {
      "text/plain": [
       "array([1, 0], dtype=int64)"
      ]
     },
     "execution_count": 202,
     "metadata": {},
     "output_type": "execute_result"
    }
   ],
   "source": [
    "df['year'].unique()"
   ]
  },
  {
   "cell_type": "code",
   "execution_count": 203,
   "id": "98766063",
   "metadata": {
    "scrolled": true
   },
   "outputs": [
    {
     "data": {
      "text/plain": [
       "array([11,  8,  9, 10,  4,  1,  7, 12,  2,  6,  3,  5], dtype=int64)"
      ]
     },
     "execution_count": 203,
     "metadata": {},
     "output_type": "execute_result"
    }
   ],
   "source": [
    "df['day'].unique()"
   ]
  },
  {
   "cell_type": "code",
   "execution_count": 204,
   "id": "cd844598",
   "metadata": {},
   "outputs": [],
   "source": [
    "df = df.drop(['last_sale_date'], axis = 1)"
   ]
  },
  {
   "cell_type": "code",
   "execution_count": 205,
   "id": "776b6646",
   "metadata": {},
   "outputs": [
    {
     "name": "stdout",
     "output_type": "stream",
     "text": [
      "<class 'pandas.core.frame.DataFrame'>\n",
      "Int64Index: 491124 entries, 0 to 491123\n",
      "Data columns (total 28 columns):\n",
      " #   Column               Non-Null Count   Dtype  \n",
      "---  ------               --------------   -----  \n",
      " 0   global_index         491124 non-null  int64  \n",
      " 1   nft_id               491124 non-null  int64  \n",
      " 2   collection_id        491124 non-null  int64  \n",
      " 3   rarity_score         491124 non-null  float64\n",
      " 4   last_sale_price      309910 non-null  float64\n",
      " 5   source               491124 non-null  object \n",
      " 6   n_tweets_in_range    491124 non-null  int64  \n",
      " 7   avg_likes            491124 non-null  float64\n",
      " 8   avg_replies          491124 non-null  float64\n",
      " 9   avg_retweets         491124 non-null  float64\n",
      " 10  min_likes            491124 non-null  int64  \n",
      " 11  min_replies          491124 non-null  int64  \n",
      " 12  min_retweets         491124 non-null  int64  \n",
      " 13  max_likes            491124 non-null  int64  \n",
      " 14  max_replies          491124 non-null  int64  \n",
      " 15  max_retweets         491124 non-null  int64  \n",
      " 16  total_supply         491124 non-null  int64  \n",
      " 17  creation_date        491124 non-null  object \n",
      " 18  verification_status  491124 non-null  object \n",
      " 19  n_of_traits          491124 non-null  int64  \n",
      " 20  contract_type        491124 non-null  object \n",
      " 21  seller_fees          491124 non-null  float64\n",
      " 22  has_website          491124 non-null  bool   \n",
      " 23  has_own_twitter      491124 non-null  bool   \n",
      " 24  has_discord          491124 non-null  bool   \n",
      " 25  has_medium           491124 non-null  bool   \n",
      " 26  year                 491124 non-null  int64  \n",
      " 27  day                  491124 non-null  int64  \n",
      "dtypes: bool(4), float64(6), int64(14), object(4)\n",
      "memory usage: 95.5+ MB\n"
     ]
    }
   ],
   "source": [
    "df.info()"
   ]
  },
  {
   "cell_type": "code",
   "execution_count": 206,
   "id": "c9bc758d",
   "metadata": {},
   "outputs": [
    {
     "data": {
      "text/plain": [
       "array(['2022-04', '2021-07', '2021-11', '2022-06', '2021-02', '2021-08',\n",
       "       '2021-04', '2022-07', '2021-12', '2022-03', '2021-03', '2021-06',\n",
       "       '2021-10', '2021-09', '2022-01', '2022-02', '2022-05', '2021-05',\n",
       "       '2021-01'], dtype=object)"
      ]
     },
     "execution_count": 206,
     "metadata": {},
     "output_type": "execute_result"
    }
   ],
   "source": [
    "df.creation_date.unique()"
   ]
  },
  {
   "cell_type": "code",
   "execution_count": 207,
   "id": "04a45727",
   "metadata": {},
   "outputs": [],
   "source": [
    "df['creation_day'] = df['creation_date'].apply(lambda x: mod_date(x))\n",
    "df['creation_year'] = df['creation_date'].apply(lambda x: mod_year(x))"
   ]
  },
  {
   "cell_type": "code",
   "execution_count": 208,
   "id": "6e2b787a",
   "metadata": {},
   "outputs": [],
   "source": [
    "df = df.drop(['creation_date'], axis = 1)"
   ]
  },
  {
   "cell_type": "code",
   "execution_count": 209,
   "id": "3bd51ab1",
   "metadata": {
    "scrolled": true
   },
   "outputs": [
    {
     "data": {
      "text/plain": [
       "array(['verified', 'approved'], dtype=object)"
      ]
     },
     "execution_count": 209,
     "metadata": {},
     "output_type": "execute_result"
    }
   ],
   "source": [
    "df.verification_status.unique()"
   ]
  },
  {
   "cell_type": "code",
   "execution_count": 210,
   "id": "179190e6",
   "metadata": {},
   "outputs": [],
   "source": [
    "df.verification_status = df.verification_status.map({'verified':1,\n",
    "                               'approved': 0})"
   ]
  },
  {
   "cell_type": "code",
   "execution_count": 211,
   "id": "e0837e78",
   "metadata": {},
   "outputs": [
    {
     "data": {
      "text/plain": [
       "array(['own', 'default'], dtype=object)"
      ]
     },
     "execution_count": 211,
     "metadata": {},
     "output_type": "execute_result"
    }
   ],
   "source": [
    "df.contract_type.unique()"
   ]
  },
  {
   "cell_type": "code",
   "execution_count": 212,
   "id": "7740286c",
   "metadata": {},
   "outputs": [],
   "source": [
    "df.contract_type = df.contract_type.map({'own':1,\n",
    "                               'default': 0})"
   ]
  },
  {
   "cell_type": "code",
   "execution_count": 213,
   "id": "fa2160b0",
   "metadata": {},
   "outputs": [],
   "source": [
    "df['has_website'] = df['has_website'].replace({'True': 1,\n",
    "                                         'False': 0})"
   ]
  },
  {
   "cell_type": "code",
   "execution_count": 214,
   "id": "e3fe8dac",
   "metadata": {},
   "outputs": [],
   "source": [
    "df['has_own_twitter'] = df['has_own_twitter'].replace({'True': 1,\n",
    "                                         'False': 0})"
   ]
  },
  {
   "cell_type": "code",
   "execution_count": 215,
   "id": "42db32f0",
   "metadata": {},
   "outputs": [],
   "source": [
    "df['has_discord'] = df['has_discord'].replace({'True': 1,\n",
    "                                         'False': 0})"
   ]
  },
  {
   "cell_type": "code",
   "execution_count": 216,
   "id": "099a968d",
   "metadata": {},
   "outputs": [],
   "source": [
    "df['has_medium'] = df['has_medium'].replace({'True': 1,\n",
    "                                         'False': 0})"
   ]
  },
  {
   "cell_type": "code",
   "execution_count": 217,
   "id": "05ce46f1",
   "metadata": {
    "scrolled": true
   },
   "outputs": [
    {
     "data": {
      "text/html": [
       "<div>\n",
       "<style scoped>\n",
       "    .dataframe tbody tr th:only-of-type {\n",
       "        vertical-align: middle;\n",
       "    }\n",
       "\n",
       "    .dataframe tbody tr th {\n",
       "        vertical-align: top;\n",
       "    }\n",
       "\n",
       "    .dataframe thead th {\n",
       "        text-align: right;\n",
       "    }\n",
       "</style>\n",
       "<table border=\"1\" class=\"dataframe\">\n",
       "  <thead>\n",
       "    <tr style=\"text-align: right;\">\n",
       "      <th></th>\n",
       "      <th>global_index</th>\n",
       "      <th>nft_id</th>\n",
       "      <th>collection_id</th>\n",
       "      <th>rarity_score</th>\n",
       "      <th>last_sale_price</th>\n",
       "      <th>source</th>\n",
       "      <th>n_tweets_in_range</th>\n",
       "      <th>avg_likes</th>\n",
       "      <th>avg_replies</th>\n",
       "      <th>avg_retweets</th>\n",
       "      <th>min_likes</th>\n",
       "      <th>min_replies</th>\n",
       "      <th>min_retweets</th>\n",
       "      <th>max_likes</th>\n",
       "      <th>max_replies</th>\n",
       "      <th>max_retweets</th>\n",
       "      <th>total_supply</th>\n",
       "      <th>verification_status</th>\n",
       "      <th>n_of_traits</th>\n",
       "      <th>contract_type</th>\n",
       "      <th>seller_fees</th>\n",
       "      <th>has_website</th>\n",
       "      <th>has_own_twitter</th>\n",
       "      <th>has_discord</th>\n",
       "      <th>has_medium</th>\n",
       "      <th>year</th>\n",
       "      <th>day</th>\n",
       "      <th>creation_day</th>\n",
       "      <th>creation_year</th>\n",
       "    </tr>\n",
       "  </thead>\n",
       "  <tbody>\n",
       "    <tr>\n",
       "      <th>0</th>\n",
       "      <td>21928</td>\n",
       "      <td>0</td>\n",
       "      <td>49</td>\n",
       "      <td>2.000000</td>\n",
       "      <td>1.266732</td>\n",
       "      <td>Train</td>\n",
       "      <td>31</td>\n",
       "      <td>187.967742</td>\n",
       "      <td>8.290323</td>\n",
       "      <td>60.935484</td>\n",
       "      <td>0</td>\n",
       "      <td>0</td>\n",
       "      <td>2</td>\n",
       "      <td>591</td>\n",
       "      <td>28</td>\n",
       "      <td>380</td>\n",
       "      <td>1</td>\n",
       "      <td>1</td>\n",
       "      <td>2</td>\n",
       "      <td>1</td>\n",
       "      <td>1000.0</td>\n",
       "      <td>False</td>\n",
       "      <td>True</td>\n",
       "      <td>True</td>\n",
       "      <td>False</td>\n",
       "      <td>1</td>\n",
       "      <td>11</td>\n",
       "      <td>4</td>\n",
       "      <td>1</td>\n",
       "    </tr>\n",
       "    <tr>\n",
       "      <th>1</th>\n",
       "      <td>32621</td>\n",
       "      <td>0</td>\n",
       "      <td>45</td>\n",
       "      <td>97.077216</td>\n",
       "      <td>1.200357</td>\n",
       "      <td>Train</td>\n",
       "      <td>11</td>\n",
       "      <td>133.181818</td>\n",
       "      <td>13.454545</td>\n",
       "      <td>55.181818</td>\n",
       "      <td>0</td>\n",
       "      <td>0</td>\n",
       "      <td>7</td>\n",
       "      <td>402</td>\n",
       "      <td>47</td>\n",
       "      <td>239</td>\n",
       "      <td>8888</td>\n",
       "      <td>1</td>\n",
       "      <td>5</td>\n",
       "      <td>1</td>\n",
       "      <td>500.0</td>\n",
       "      <td>False</td>\n",
       "      <td>True</td>\n",
       "      <td>True</td>\n",
       "      <td>False</td>\n",
       "      <td>0</td>\n",
       "      <td>8</td>\n",
       "      <td>7</td>\n",
       "      <td>0</td>\n",
       "    </tr>\n",
       "    <tr>\n",
       "      <th>2</th>\n",
       "      <td>32622</td>\n",
       "      <td>1</td>\n",
       "      <td>45</td>\n",
       "      <td>139.453086</td>\n",
       "      <td>3.180572</td>\n",
       "      <td>Train</td>\n",
       "      <td>11</td>\n",
       "      <td>133.181818</td>\n",
       "      <td>13.454545</td>\n",
       "      <td>55.181818</td>\n",
       "      <td>0</td>\n",
       "      <td>0</td>\n",
       "      <td>7</td>\n",
       "      <td>402</td>\n",
       "      <td>47</td>\n",
       "      <td>239</td>\n",
       "      <td>8888</td>\n",
       "      <td>1</td>\n",
       "      <td>5</td>\n",
       "      <td>1</td>\n",
       "      <td>500.0</td>\n",
       "      <td>False</td>\n",
       "      <td>True</td>\n",
       "      <td>True</td>\n",
       "      <td>False</td>\n",
       "      <td>1</td>\n",
       "      <td>8</td>\n",
       "      <td>7</td>\n",
       "      <td>0</td>\n",
       "    </tr>\n",
       "    <tr>\n",
       "      <th>3</th>\n",
       "      <td>32623</td>\n",
       "      <td>2</td>\n",
       "      <td>45</td>\n",
       "      <td>127.753445</td>\n",
       "      <td>3.502910</td>\n",
       "      <td>Train</td>\n",
       "      <td>11</td>\n",
       "      <td>133.181818</td>\n",
       "      <td>13.454545</td>\n",
       "      <td>55.181818</td>\n",
       "      <td>0</td>\n",
       "      <td>0</td>\n",
       "      <td>7</td>\n",
       "      <td>402</td>\n",
       "      <td>47</td>\n",
       "      <td>239</td>\n",
       "      <td>8888</td>\n",
       "      <td>1</td>\n",
       "      <td>5</td>\n",
       "      <td>1</td>\n",
       "      <td>500.0</td>\n",
       "      <td>False</td>\n",
       "      <td>True</td>\n",
       "      <td>True</td>\n",
       "      <td>False</td>\n",
       "      <td>0</td>\n",
       "      <td>8</td>\n",
       "      <td>7</td>\n",
       "      <td>0</td>\n",
       "    </tr>\n",
       "    <tr>\n",
       "      <th>4</th>\n",
       "      <td>32624</td>\n",
       "      <td>3</td>\n",
       "      <td>45</td>\n",
       "      <td>112.315719</td>\n",
       "      <td>4.009567</td>\n",
       "      <td>Train</td>\n",
       "      <td>11</td>\n",
       "      <td>133.181818</td>\n",
       "      <td>13.454545</td>\n",
       "      <td>55.181818</td>\n",
       "      <td>0</td>\n",
       "      <td>0</td>\n",
       "      <td>7</td>\n",
       "      <td>402</td>\n",
       "      <td>47</td>\n",
       "      <td>239</td>\n",
       "      <td>8888</td>\n",
       "      <td>1</td>\n",
       "      <td>5</td>\n",
       "      <td>1</td>\n",
       "      <td>500.0</td>\n",
       "      <td>False</td>\n",
       "      <td>True</td>\n",
       "      <td>True</td>\n",
       "      <td>False</td>\n",
       "      <td>1</td>\n",
       "      <td>9</td>\n",
       "      <td>7</td>\n",
       "      <td>0</td>\n",
       "    </tr>\n",
       "  </tbody>\n",
       "</table>\n",
       "</div>"
      ],
      "text/plain": [
       "   global_index  nft_id  collection_id  rarity_score  last_sale_price source  \\\n",
       "0         21928       0             49      2.000000         1.266732  Train   \n",
       "1         32621       0             45     97.077216         1.200357  Train   \n",
       "2         32622       1             45    139.453086         3.180572  Train   \n",
       "3         32623       2             45    127.753445         3.502910  Train   \n",
       "4         32624       3             45    112.315719         4.009567  Train   \n",
       "\n",
       "   n_tweets_in_range   avg_likes  avg_replies  avg_retweets  min_likes  \\\n",
       "0                 31  187.967742     8.290323     60.935484          0   \n",
       "1                 11  133.181818    13.454545     55.181818          0   \n",
       "2                 11  133.181818    13.454545     55.181818          0   \n",
       "3                 11  133.181818    13.454545     55.181818          0   \n",
       "4                 11  133.181818    13.454545     55.181818          0   \n",
       "\n",
       "   min_replies  min_retweets  max_likes  max_replies  max_retweets  \\\n",
       "0            0             2        591           28           380   \n",
       "1            0             7        402           47           239   \n",
       "2            0             7        402           47           239   \n",
       "3            0             7        402           47           239   \n",
       "4            0             7        402           47           239   \n",
       "\n",
       "   total_supply  verification_status  n_of_traits  contract_type  seller_fees  \\\n",
       "0             1                    1            2              1       1000.0   \n",
       "1          8888                    1            5              1        500.0   \n",
       "2          8888                    1            5              1        500.0   \n",
       "3          8888                    1            5              1        500.0   \n",
       "4          8888                    1            5              1        500.0   \n",
       "\n",
       "   has_website  has_own_twitter  has_discord  has_medium  year  day  \\\n",
       "0        False             True         True       False     1   11   \n",
       "1        False             True         True       False     0    8   \n",
       "2        False             True         True       False     1    8   \n",
       "3        False             True         True       False     0    8   \n",
       "4        False             True         True       False     1    9   \n",
       "\n",
       "   creation_day  creation_year  \n",
       "0             4              1  \n",
       "1             7              0  \n",
       "2             7              0  \n",
       "3             7              0  \n",
       "4             7              0  "
      ]
     },
     "execution_count": 217,
     "metadata": {},
     "output_type": "execute_result"
    }
   ],
   "source": [
    "df.head()"
   ]
  },
  {
   "cell_type": "code",
   "execution_count": 218,
   "id": "4ed780b6",
   "metadata": {
    "scrolled": false
   },
   "outputs": [
    {
     "name": "stdout",
     "output_type": "stream",
     "text": [
      "<class 'pandas.core.frame.DataFrame'>\n",
      "Int64Index: 491124 entries, 0 to 491123\n",
      "Data columns (total 29 columns):\n",
      " #   Column               Non-Null Count   Dtype  \n",
      "---  ------               --------------   -----  \n",
      " 0   global_index         491124 non-null  int64  \n",
      " 1   nft_id               491124 non-null  int64  \n",
      " 2   collection_id        491124 non-null  int64  \n",
      " 3   rarity_score         491124 non-null  float64\n",
      " 4   last_sale_price      309910 non-null  float64\n",
      " 5   source               491124 non-null  object \n",
      " 6   n_tweets_in_range    491124 non-null  int64  \n",
      " 7   avg_likes            491124 non-null  float64\n",
      " 8   avg_replies          491124 non-null  float64\n",
      " 9   avg_retweets         491124 non-null  float64\n",
      " 10  min_likes            491124 non-null  int64  \n",
      " 11  min_replies          491124 non-null  int64  \n",
      " 12  min_retweets         491124 non-null  int64  \n",
      " 13  max_likes            491124 non-null  int64  \n",
      " 14  max_replies          491124 non-null  int64  \n",
      " 15  max_retweets         491124 non-null  int64  \n",
      " 16  total_supply         491124 non-null  int64  \n",
      " 17  verification_status  491124 non-null  int64  \n",
      " 18  n_of_traits          491124 non-null  int64  \n",
      " 19  contract_type        491124 non-null  int64  \n",
      " 20  seller_fees          491124 non-null  float64\n",
      " 21  has_website          491124 non-null  bool   \n",
      " 22  has_own_twitter      491124 non-null  bool   \n",
      " 23  has_discord          491124 non-null  bool   \n",
      " 24  has_medium           491124 non-null  bool   \n",
      " 25  year                 491124 non-null  int64  \n",
      " 26  day                  491124 non-null  int64  \n",
      " 27  creation_day         491124 non-null  int64  \n",
      " 28  creation_year        491124 non-null  int64  \n",
      "dtypes: bool(4), float64(6), int64(18), object(1)\n",
      "memory usage: 99.3+ MB\n"
     ]
    }
   ],
   "source": [
    "df.info()"
   ]
  },
  {
   "cell_type": "markdown",
   "id": "e78a574e",
   "metadata": {},
   "source": [
    "### Analysing the correlation between certain variables"
   ]
  },
  {
   "cell_type": "code",
   "execution_count": 338,
   "id": "3838bf85",
   "metadata": {},
   "outputs": [
    {
     "data": {
      "text/plain": [
       "<AxesSubplot:xlabel='creation_day', ylabel='last_sale_price'>"
      ]
     },
     "execution_count": 338,
     "metadata": {},
     "output_type": "execute_result"
    },
    {
     "data": {
      "image/png": "[encoded data removed]",
      "text/plain": [
       "<Figure size 432x288 with 1 Axes>"
      ]
     },
     "metadata": {
      "needs_background": "light"
     },
     "output_type": "display_data"
    }
   ],
   "source": [
    "sns.barplot(data = df, x='creation_day',y = 'last_sale_price')\n",
    "sns.lineplot(data = df, x='creation_day',y = 'last_sale_price')"
   ]
  },
  {
   "cell_type": "code",
   "execution_count": 220,
   "id": "35e6fcd6",
   "metadata": {},
   "outputs": [
    {
     "data": {
      "text/plain": [
       "<AxesSubplot:xlabel='creation_year', ylabel='last_sale_price'>"
      ]
     },
     "execution_count": 220,
     "metadata": {},
     "output_type": "execute_result"
    },
    {
     "data": {
      "image/png": "[encoded data removed]",
      "text/plain": [
       "<Figure size 432x288 with 1 Axes>"
      ]
     },
     "metadata": {
      "needs_background": "light"
     },
     "output_type": "display_data"
    }
   ],
   "source": [
    "sns.lineplot(data = df, x='creation_year',y = 'last_sale_price')"
   ]
  },
  {
   "cell_type": "code",
   "execution_count": 221,
   "id": "93cd9c27",
   "metadata": {
    "scrolled": true
   },
   "outputs": [
    {
     "data": {
      "text/plain": [
       "<AxesSubplot:xlabel='day', ylabel='last_sale_price'>"
      ]
     },
     "execution_count": 221,
     "metadata": {},
     "output_type": "execute_result"
    },
    {
     "data": {
      "image/png": "[encoded data removed]",
      "text/plain": [
       "<Figure size 432x288 with 1 Axes>"
      ]
     },
     "metadata": {
      "needs_background": "light"
     },
     "output_type": "display_data"
    }
   ],
   "source": [
    "sns.lineplot(data = df, x='day',y = 'last_sale_price')"
   ]
  },
  {
   "cell_type": "code",
   "execution_count": 222,
   "id": "f3d280ad",
   "metadata": {
    "scrolled": true
   },
   "outputs": [
    {
     "data": {
      "text/plain": [
       "<AxesSubplot:xlabel='year', ylabel='last_sale_price'>"
      ]
     },
     "execution_count": 222,
     "metadata": {},
     "output_type": "execute_result"
    },
    {
     "data": {
      "image/png": "[encoded data removed]",
      "text/plain": [
       "<Figure size 432x288 with 1 Axes>"
      ]
     },
     "metadata": {
      "needs_background": "light"
     },
     "output_type": "display_data"
    }
   ],
   "source": [
    "sns.lineplot(data = df, x='year',y = 'last_sale_price')"
   ]
  },
  {
   "cell_type": "code",
   "execution_count": 340,
   "id": "9b092618",
   "metadata": {},
   "outputs": [
    {
     "data": {
      "text/plain": [
       "<AxesSubplot:xlabel='rarity_score', ylabel='last_sale_price'>"
      ]
     },
     "execution_count": 340,
     "metadata": {},
     "output_type": "execute_result"
    },
    {
     "data": {
      "image/png": "[encoded data removed]",
      "text/plain": [
       "<Figure size 432x288 with 1 Axes>"
      ]
     },
     "metadata": {
      "needs_background": "light"
     },
     "output_type": "display_data"
    }
   ],
   "source": [
    "sns.scatterplot(data = df, x='rarity_score',y = 'last_sale_price')"
   ]
  },
  {
   "cell_type": "code",
   "execution_count": 224,
   "id": "5d3f61e7",
   "metadata": {},
   "outputs": [
    {
     "data": {
      "text/plain": [
       "<AxesSubplot:xlabel='n_tweets_in_range', ylabel='last_sale_price'>"
      ]
     },
     "execution_count": 224,
     "metadata": {},
     "output_type": "execute_result"
    },
    {
     "data": {
      "image/png": "[encoded data removed]",
      "text/plain": [
       "<Figure size 432x288 with 1 Axes>"
      ]
     },
     "metadata": {
      "needs_background": "light"
     },
     "output_type": "display_data"
    }
   ],
   "source": [
    "sns.scatterplot(data = df, x='n_tweets_in_range',y = 'last_sale_price', legend = 'auto')\n",
    "sns.scatterplot(data = df, x='avg_likes',y = 'last_sale_price', legend = 'auto')\n",
    "sns.scatterplot(data = df, x='avg_replies',y = 'last_sale_price', legend = 'auto')\n",
    "sns.scatterplot(data = df, x='avg_retweets',y = 'last_sale_price', legend = 'auto')"
   ]
  },
  {
   "cell_type": "markdown",
   "id": "72c3aabf",
   "metadata": {},
   "source": [
    "#### All the above variables follow normal distribution w.r.t the last_year_price"
   ]
  },
  {
   "cell_type": "code",
   "execution_count": 225,
   "id": "d3e29789",
   "metadata": {},
   "outputs": [
    {
     "data": {
      "text/plain": [
       "<AxesSubplot:xlabel='total_supply', ylabel='last_sale_price'>"
      ]
     },
     "execution_count": 225,
     "metadata": {},
     "output_type": "execute_result"
    },
    {
     "data": {
      "image/png": "[encoded data removed]",
      "text/plain": [
       "<Figure size 432x288 with 1 Axes>"
      ]
     },
     "metadata": {
      "needs_background": "light"
     },
     "output_type": "display_data"
    }
   ],
   "source": [
    "sns.scatterplot(data = df, x='total_supply',y = 'last_sale_price', legend = 'auto')"
   ]
  },
  {
   "cell_type": "code",
   "execution_count": 226,
   "id": "9aafc1bf",
   "metadata": {
    "scrolled": true
   },
   "outputs": [
    {
     "data": {
      "text/plain": [
       "<AxesSubplot:xlabel='n_of_traits', ylabel='last_sale_price'>"
      ]
     },
     "execution_count": 226,
     "metadata": {},
     "output_type": "execute_result"
    },
    {
     "data": {
      "image/png": "[encoded data removed]",
      "text/plain": [
       "<Figure size 432x288 with 1 Axes>"
      ]
     },
     "metadata": {
      "needs_background": "light"
     },
     "output_type": "display_data"
    }
   ],
   "source": [
    "sns.scatterplot(data = df, x='n_of_traits',y = 'last_sale_price', legend = 'auto')"
   ]
  },
  {
   "cell_type": "code",
   "execution_count": 227,
   "id": "019d52b3",
   "metadata": {},
   "outputs": [
    {
     "name": "stdout",
     "output_type": "stream",
     "text": [
      "<class 'pandas.core.frame.DataFrame'>\n",
      "Int64Index: 491124 entries, 0 to 491123\n",
      "Data columns (total 29 columns):\n",
      " #   Column               Non-Null Count   Dtype  \n",
      "---  ------               --------------   -----  \n",
      " 0   global_index         491124 non-null  int64  \n",
      " 1   nft_id               491124 non-null  int64  \n",
      " 2   collection_id        491124 non-null  int64  \n",
      " 3   rarity_score         491124 non-null  float64\n",
      " 4   last_sale_price      309910 non-null  float64\n",
      " 5   source               491124 non-null  object \n",
      " 6   n_tweets_in_range    491124 non-null  int64  \n",
      " 7   avg_likes            491124 non-null  float64\n",
      " 8   avg_replies          491124 non-null  float64\n",
      " 9   avg_retweets         491124 non-null  float64\n",
      " 10  min_likes            491124 non-null  int64  \n",
      " 11  min_replies          491124 non-null  int64  \n",
      " 12  min_retweets         491124 non-null  int64  \n",
      " 13  max_likes            491124 non-null  int64  \n",
      " 14  max_replies          491124 non-null  int64  \n",
      " 15  max_retweets         491124 non-null  int64  \n",
      " 16  total_supply         491124 non-null  int64  \n",
      " 17  verification_status  491124 non-null  int64  \n",
      " 18  n_of_traits          491124 non-null  int64  \n",
      " 19  contract_type        491124 non-null  int64  \n",
      " 20  seller_fees          491124 non-null  float64\n",
      " 21  has_website          491124 non-null  bool   \n",
      " 22  has_own_twitter      491124 non-null  bool   \n",
      " 23  has_discord          491124 non-null  bool   \n",
      " 24  has_medium           491124 non-null  bool   \n",
      " 25  year                 491124 non-null  int64  \n",
      " 26  day                  491124 non-null  int64  \n",
      " 27  creation_day         491124 non-null  int64  \n",
      " 28  creation_year        491124 non-null  int64  \n",
      "dtypes: bool(4), float64(6), int64(18), object(1)\n",
      "memory usage: 115.4+ MB\n"
     ]
    }
   ],
   "source": [
    "df.info()"
   ]
  },
  {
   "cell_type": "code",
   "execution_count": 228,
   "id": "03e004c7",
   "metadata": {},
   "outputs": [
    {
     "data": {
      "text/plain": [
       "<AxesSubplot:xlabel='has_website'>"
      ]
     },
     "execution_count": 228,
     "metadata": {},
     "output_type": "execute_result"
    },
    {
     "data": {
      "image/png": "[encoded data removed]",
      "text/plain": [
       "<Figure size 1152x432 with 4 Axes>"
      ]
     },
     "metadata": {
      "needs_background": "light"
     },
     "output_type": "display_data"
    }
   ],
   "source": [
    "fig,axes = plt.subplots(1,4,sharey=True)\n",
    "df.plot(kind = 'line', x = 'has_medium', y= 'last_sale_price' ,ax = axes[0], figsize = (16,6))\n",
    "df.plot(kind = 'line', x = 'has_discord', y= 'last_sale_price',ax = axes[1], figsize = (16,6))\n",
    "df.plot(kind = 'line', x = 'has_own_twitter', y= 'last_sale_price',ax = axes[2], figsize = (16,6))\n",
    "df.plot(kind = 'line', x = 'has_website', y= 'last_sale_price',ax = axes[3], figsize = (16,6))"
   ]
  },
  {
   "cell_type": "code",
   "execution_count": 229,
   "id": "8292a515",
   "metadata": {},
   "outputs": [
    {
     "data": {
      "text/plain": [
       "<AxesSubplot:xlabel='global_index', ylabel='last_sale_price'>"
      ]
     },
     "execution_count": 229,
     "metadata": {},
     "output_type": "execute_result"
    },
    {
     "data": {
      "image/png": "[encoded data removed]",
      "text/plain": [
       "<Figure size 432x288 with 1 Axes>"
      ]
     },
     "metadata": {
      "needs_background": "light"
     },
     "output_type": "display_data"
    }
   ],
   "source": [
    "sns.lineplot(data = df, y= 'last_sale_price',x = 'global_index',  hue = 'has_medium')"
   ]
  },
  {
   "cell_type": "markdown",
   "id": "1e99f79a",
   "metadata": {},
   "source": [
    "### training model"
   ]
  },
  {
   "cell_type": "code",
   "execution_count": 394,
   "id": "8d143859",
   "metadata": {},
   "outputs": [],
   "source": [
    "train = df.loc[df['source']=='Train']\n",
    "test = df.loc[df['source']=='Test']"
   ]
  },
  {
   "cell_type": "code",
   "execution_count": 395,
   "id": "ac1729d6",
   "metadata": {},
   "outputs": [],
   "source": [
    "X = train.drop(['last_sale_price','source'],axis = 1)\n",
    "y = train['last_sale_price']\n",
    "test = test.drop(['last_sale_price','source'],axis = 1)"
   ]
  },
  {
   "cell_type": "code",
   "execution_count": 396,
   "id": "4b8e1877",
   "metadata": {},
   "outputs": [
    {
     "data": {
      "text/plain": [
       "(181214, 27)"
      ]
     },
     "execution_count": 396,
     "metadata": {},
     "output_type": "execute_result"
    }
   ],
   "source": [
    "test.shape"
   ]
  },
  {
   "cell_type": "code",
   "execution_count": 350,
   "id": "b0290789",
   "metadata": {
    "scrolled": true
   },
   "outputs": [
    {
     "data": {
      "text/plain": [
       "(309910, 27)"
      ]
     },
     "execution_count": 350,
     "metadata": {},
     "output_type": "execute_result"
    }
   ],
   "source": [
    "X.shape"
   ]
  },
  {
   "cell_type": "code",
   "execution_count": 351,
   "id": "7a6da47e",
   "metadata": {
    "scrolled": false
   },
   "outputs": [
    {
     "data": {
      "text/html": [
       "<div>\n",
       "<style scoped>\n",
       "    .dataframe tbody tr th:only-of-type {\n",
       "        vertical-align: middle;\n",
       "    }\n",
       "\n",
       "    .dataframe tbody tr th {\n",
       "        vertical-align: top;\n",
       "    }\n",
       "\n",
       "    .dataframe thead th {\n",
       "        text-align: right;\n",
       "    }\n",
       "</style>\n",
       "<table border=\"1\" class=\"dataframe\">\n",
       "  <thead>\n",
       "    <tr style=\"text-align: right;\">\n",
       "      <th></th>\n",
       "      <th>global_index</th>\n",
       "      <th>nft_id</th>\n",
       "      <th>collection_id</th>\n",
       "      <th>rarity_score</th>\n",
       "      <th>n_tweets_in_range</th>\n",
       "      <th>avg_likes</th>\n",
       "      <th>avg_replies</th>\n",
       "      <th>avg_retweets</th>\n",
       "      <th>min_likes</th>\n",
       "      <th>min_replies</th>\n",
       "      <th>min_retweets</th>\n",
       "      <th>max_likes</th>\n",
       "      <th>max_replies</th>\n",
       "      <th>max_retweets</th>\n",
       "      <th>total_supply</th>\n",
       "      <th>verification_status</th>\n",
       "      <th>n_of_traits</th>\n",
       "      <th>contract_type</th>\n",
       "      <th>seller_fees</th>\n",
       "      <th>has_website</th>\n",
       "      <th>has_own_twitter</th>\n",
       "      <th>has_discord</th>\n",
       "      <th>has_medium</th>\n",
       "      <th>year</th>\n",
       "      <th>day</th>\n",
       "      <th>creation_day</th>\n",
       "      <th>creation_year</th>\n",
       "    </tr>\n",
       "  </thead>\n",
       "  <tbody>\n",
       "    <tr>\n",
       "      <th>0</th>\n",
       "      <td>21928</td>\n",
       "      <td>0</td>\n",
       "      <td>49</td>\n",
       "      <td>2.000000</td>\n",
       "      <td>31</td>\n",
       "      <td>187.967742</td>\n",
       "      <td>8.290323</td>\n",
       "      <td>60.935484</td>\n",
       "      <td>0</td>\n",
       "      <td>0</td>\n",
       "      <td>2</td>\n",
       "      <td>591</td>\n",
       "      <td>28</td>\n",
       "      <td>380</td>\n",
       "      <td>1</td>\n",
       "      <td>1</td>\n",
       "      <td>2</td>\n",
       "      <td>1</td>\n",
       "      <td>1000.0</td>\n",
       "      <td>False</td>\n",
       "      <td>True</td>\n",
       "      <td>True</td>\n",
       "      <td>False</td>\n",
       "      <td>1</td>\n",
       "      <td>11</td>\n",
       "      <td>4</td>\n",
       "      <td>1</td>\n",
       "    </tr>\n",
       "    <tr>\n",
       "      <th>1</th>\n",
       "      <td>32621</td>\n",
       "      <td>0</td>\n",
       "      <td>45</td>\n",
       "      <td>97.077216</td>\n",
       "      <td>11</td>\n",
       "      <td>133.181818</td>\n",
       "      <td>13.454545</td>\n",
       "      <td>55.181818</td>\n",
       "      <td>0</td>\n",
       "      <td>0</td>\n",
       "      <td>7</td>\n",
       "      <td>402</td>\n",
       "      <td>47</td>\n",
       "      <td>239</td>\n",
       "      <td>8888</td>\n",
       "      <td>1</td>\n",
       "      <td>5</td>\n",
       "      <td>1</td>\n",
       "      <td>500.0</td>\n",
       "      <td>False</td>\n",
       "      <td>True</td>\n",
       "      <td>True</td>\n",
       "      <td>False</td>\n",
       "      <td>0</td>\n",
       "      <td>8</td>\n",
       "      <td>7</td>\n",
       "      <td>0</td>\n",
       "    </tr>\n",
       "    <tr>\n",
       "      <th>2</th>\n",
       "      <td>32622</td>\n",
       "      <td>1</td>\n",
       "      <td>45</td>\n",
       "      <td>139.453086</td>\n",
       "      <td>11</td>\n",
       "      <td>133.181818</td>\n",
       "      <td>13.454545</td>\n",
       "      <td>55.181818</td>\n",
       "      <td>0</td>\n",
       "      <td>0</td>\n",
       "      <td>7</td>\n",
       "      <td>402</td>\n",
       "      <td>47</td>\n",
       "      <td>239</td>\n",
       "      <td>8888</td>\n",
       "      <td>1</td>\n",
       "      <td>5</td>\n",
       "      <td>1</td>\n",
       "      <td>500.0</td>\n",
       "      <td>False</td>\n",
       "      <td>True</td>\n",
       "      <td>True</td>\n",
       "      <td>False</td>\n",
       "      <td>1</td>\n",
       "      <td>8</td>\n",
       "      <td>7</td>\n",
       "      <td>0</td>\n",
       "    </tr>\n",
       "    <tr>\n",
       "      <th>3</th>\n",
       "      <td>32623</td>\n",
       "      <td>2</td>\n",
       "      <td>45</td>\n",
       "      <td>127.753445</td>\n",
       "      <td>11</td>\n",
       "      <td>133.181818</td>\n",
       "      <td>13.454545</td>\n",
       "      <td>55.181818</td>\n",
       "      <td>0</td>\n",
       "      <td>0</td>\n",
       "      <td>7</td>\n",
       "      <td>402</td>\n",
       "      <td>47</td>\n",
       "      <td>239</td>\n",
       "      <td>8888</td>\n",
       "      <td>1</td>\n",
       "      <td>5</td>\n",
       "      <td>1</td>\n",
       "      <td>500.0</td>\n",
       "      <td>False</td>\n",
       "      <td>True</td>\n",
       "      <td>True</td>\n",
       "      <td>False</td>\n",
       "      <td>0</td>\n",
       "      <td>8</td>\n",
       "      <td>7</td>\n",
       "      <td>0</td>\n",
       "    </tr>\n",
       "    <tr>\n",
       "      <th>4</th>\n",
       "      <td>32624</td>\n",
       "      <td>3</td>\n",
       "      <td>45</td>\n",
       "      <td>112.315719</td>\n",
       "      <td>11</td>\n",
       "      <td>133.181818</td>\n",
       "      <td>13.454545</td>\n",
       "      <td>55.181818</td>\n",
       "      <td>0</td>\n",
       "      <td>0</td>\n",
       "      <td>7</td>\n",
       "      <td>402</td>\n",
       "      <td>47</td>\n",
       "      <td>239</td>\n",
       "      <td>8888</td>\n",
       "      <td>1</td>\n",
       "      <td>5</td>\n",
       "      <td>1</td>\n",
       "      <td>500.0</td>\n",
       "      <td>False</td>\n",
       "      <td>True</td>\n",
       "      <td>True</td>\n",
       "      <td>False</td>\n",
       "      <td>1</td>\n",
       "      <td>9</td>\n",
       "      <td>7</td>\n",
       "      <td>0</td>\n",
       "    </tr>\n",
       "  </tbody>\n",
       "</table>\n",
       "</div>"
      ],
      "text/plain": [
       "   global_index  nft_id  collection_id  rarity_score  n_tweets_in_range  \\\n",
       "0         21928       0             49      2.000000                 31   \n",
       "1         32621       0             45     97.077216                 11   \n",
       "2         32622       1             45    139.453086                 11   \n",
       "3         32623       2             45    127.753445                 11   \n",
       "4         32624       3             45    112.315719                 11   \n",
       "\n",
       "    avg_likes  avg_replies  avg_retweets  min_likes  min_replies  \\\n",
       "0  187.967742     8.290323     60.935484          0            0   \n",
       "1  133.181818    13.454545     55.181818          0            0   \n",
       "2  133.181818    13.454545     55.181818          0            0   \n",
       "3  133.181818    13.454545     55.181818          0            0   \n",
       "4  133.181818    13.454545     55.181818          0            0   \n",
       "\n",
       "   min_retweets  max_likes  max_replies  max_retweets  total_supply  \\\n",
       "0             2        591           28           380             1   \n",
       "1             7        402           47           239          8888   \n",
       "2             7        402           47           239          8888   \n",
       "3             7        402           47           239          8888   \n",
       "4             7        402           47           239          8888   \n",
       "\n",
       "   verification_status  n_of_traits  contract_type  seller_fees  has_website  \\\n",
       "0                    1            2              1       1000.0        False   \n",
       "1                    1            5              1        500.0        False   \n",
       "2                    1            5              1        500.0        False   \n",
       "3                    1            5              1        500.0        False   \n",
       "4                    1            5              1        500.0        False   \n",
       "\n",
       "   has_own_twitter  has_discord  has_medium  year  day  creation_day  \\\n",
       "0             True         True       False     1   11             4   \n",
       "1             True         True       False     0    8             7   \n",
       "2             True         True       False     1    8             7   \n",
       "3             True         True       False     0    8             7   \n",
       "4             True         True       False     1    9             7   \n",
       "\n",
       "   creation_year  \n",
       "0              1  \n",
       "1              0  \n",
       "2              0  \n",
       "3              0  \n",
       "4              0  "
      ]
     },
     "execution_count": 351,
     "metadata": {},
     "output_type": "execute_result"
    }
   ],
   "source": [
    "X.head()"
   ]
  },
  {
   "cell_type": "code",
   "execution_count": 252,
   "id": "64498088",
   "metadata": {},
   "outputs": [],
   "source": [
    "X = X.drop(['global_index','nft_id','collection_id'],axis = 1)"
   ]
  },
  {
   "cell_type": "code",
   "execution_count": 329,
   "id": "789cf0f4",
   "metadata": {},
   "outputs": [],
   "source": [
    "test = test.drop(['global_index','nft_id','collection_id'],axis = 1)"
   ]
  },
  {
   "cell_type": "code",
   "execution_count": 253,
   "id": "4f543827",
   "metadata": {},
   "outputs": [
    {
     "data": {
      "text/plain": [
       "(309910,)"
      ]
     },
     "execution_count": 253,
     "metadata": {},
     "output_type": "execute_result"
    }
   ],
   "source": [
    "y.shape"
   ]
  },
  {
   "cell_type": "code",
   "execution_count": 254,
   "id": "4a78d5e0",
   "metadata": {},
   "outputs": [
    {
     "data": {
      "text/plain": [
       "0    1.266732\n",
       "1    1.200357\n",
       "2    3.180572\n",
       "3    3.502910\n",
       "4    4.009567\n",
       "Name: last_sale_price, dtype: float64"
      ]
     },
     "execution_count": 254,
     "metadata": {},
     "output_type": "execute_result"
    }
   ],
   "source": [
    "y.head()"
   ]
  },
  {
   "cell_type": "code",
   "execution_count": 255,
   "id": "4835ad8f",
   "metadata": {},
   "outputs": [],
   "source": [
    "X_train,X_test,y_train,y_test = train_test_split(X2,y,test_size = 0.20,random_state= 49)"
   ]
  },
  {
   "cell_type": "markdown",
   "id": "dde46aac",
   "metadata": {},
   "source": [
    "## Linear Regression"
   ]
  },
  {
   "cell_type": "code",
   "execution_count": 256,
   "id": "8a3a1fb8",
   "metadata": {},
   "outputs": [],
   "source": [
    "lr = LinearRegression()\n",
    "lr.fit(X_train,y_train)\n",
    "res = lr.predict(X_test)"
   ]
  },
  {
   "cell_type": "code",
   "execution_count": 257,
   "id": "a9457f29",
   "metadata": {},
   "outputs": [
    {
     "name": "stdout",
     "output_type": "stream",
     "text": [
      "10.862242640887995\n"
     ]
    }
   ],
   "source": [
    "from math import sqrt   \n",
    "from sklearn.metrics import r2_score, mean_squared_error \n",
    "print(sqrt(mean_squared_error(y_test, res)))"
   ]
  },
  {
   "cell_type": "markdown",
   "id": "e5e851fc",
   "metadata": {},
   "source": [
    "## Decision Tree"
   ]
  },
  {
   "cell_type": "code",
   "execution_count": 271,
   "id": "2cb66407",
   "metadata": {},
   "outputs": [],
   "source": [
    "dt = DecisionTreeRegressor(max_depth = 12,max_leaf_nodes = 30)"
   ]
  },
  {
   "cell_type": "code",
   "execution_count": 272,
   "id": "f622c273",
   "metadata": {
    "scrolled": false
   },
   "outputs": [
    {
     "name": "stdout",
     "output_type": "stream",
     "text": [
      "8.814867975934897\n"
     ]
    }
   ],
   "source": [
    "dt.fit(X_train,y_train)\n",
    "res = dt.predict(X_test)\n",
    "print(sqrt(mean_squared_error(y_test, res)))"
   ]
  },
  {
   "cell_type": "markdown",
   "id": "8a750d9a",
   "metadata": {},
   "source": [
    "#### Parameter Tuning"
   ]
  },
  {
   "cell_type": "code",
   "execution_count": 314,
   "id": "37c5d925",
   "metadata": {},
   "outputs": [],
   "source": [
    "param_grid= [\n",
    "    {\n",
    "        'max_depth': [5,6,7],\n",
    "        \"max_leaf_nodes\": [59,58,60,62,65],\n",
    "    }\n",
    "]"
   ]
  },
  {
   "cell_type": "code",
   "execution_count": 315,
   "id": "9ceb9bf3",
   "metadata": {
    "scrolled": true
   },
   "outputs": [],
   "source": [
    "from sklearn.model_selection import GridSearchCV\n",
    "optimal_param = GridSearchCV(DecisionTreeRegressor() , param_grid , cv=5 )"
   ]
  },
  {
   "cell_type": "code",
   "execution_count": 316,
   "id": "01ee7d0e",
   "metadata": {
    "scrolled": true
   },
   "outputs": [
    {
     "data": {
      "text/plain": [
       "{'max_depth': 6, 'max_leaf_nodes': 60}"
      ]
     },
     "execution_count": 316,
     "metadata": {},
     "output_type": "execute_result"
    }
   ],
   "source": [
    "optimal_param.fit(X_train,y_train)\n",
    "optimal_param.best_params_"
   ]
  },
  {
   "cell_type": "code",
   "execution_count": 318,
   "id": "6a389564",
   "metadata": {},
   "outputs": [
    {
     "name": "stdout",
     "output_type": "stream",
     "text": [
      "7.855581475510629\n"
     ]
    }
   ],
   "source": [
    "res = optimal_param.predict(X_test)\n",
    "print(sqrt(mean_squared_error(y_test, res)))"
   ]
  },
  {
   "cell_type": "markdown",
   "id": "778adc6c",
   "metadata": {},
   "source": [
    "## Random Forest Regressor"
   ]
  },
  {
   "cell_type": "code",
   "execution_count": 308,
   "id": "25249f95",
   "metadata": {},
   "outputs": [],
   "source": [
    "from sklearn.ensemble import RandomForestRegressor"
   ]
  },
  {
   "cell_type": "code",
   "execution_count": 309,
   "id": "95ec72f7",
   "metadata": {
    "scrolled": true
   },
   "outputs": [
    {
     "name": "stdout",
     "output_type": "stream",
     "text": [
      "9.053806429863664\n"
     ]
    }
   ],
   "source": [
    "rf = RandomForestRegressor()\n",
    "rf.fit(X_train,y_train)\n",
    "res = rf.predict(X_test)\n",
    "print(sqrt(mean_squared_error(y_test, res)))"
   ]
  },
  {
   "cell_type": "code",
   "execution_count": 317,
   "id": "0adae685",
   "metadata": {},
   "outputs": [],
   "source": [
    "### The best algorithm so far is decision tree regressor algorithm."
   ]
  },
  {
   "cell_type": "code",
   "execution_count": 330,
   "id": "1e48d40e",
   "metadata": {},
   "outputs": [],
   "source": [
    "final = optimal_param.predict(test)"
   ]
  },
  {
   "cell_type": "code",
   "execution_count": 331,
   "id": "24444651",
   "metadata": {},
   "outputs": [],
   "source": [
    "data_test['last_sale_price'] = final.tolist() "
   ]
  },
  {
   "cell_type": "code",
   "execution_count": 332,
   "id": "59040d68",
   "metadata": {},
   "outputs": [],
   "source": [
    "sub = data_test[['global_index','last_sale_price']]"
   ]
  },
  {
   "cell_type": "code",
   "execution_count": 335,
   "id": "215a3ea4",
   "metadata": {},
   "outputs": [
    {
     "data": {
      "text/html": [
       "<div>\n",
       "<style scoped>\n",
       "    .dataframe tbody tr th:only-of-type {\n",
       "        vertical-align: middle;\n",
       "    }\n",
       "\n",
       "    .dataframe tbody tr th {\n",
       "        vertical-align: top;\n",
       "    }\n",
       "\n",
       "    .dataframe thead th {\n",
       "        text-align: right;\n",
       "    }\n",
       "</style>\n",
       "<table border=\"1\" class=\"dataframe\">\n",
       "  <thead>\n",
       "    <tr style=\"text-align: right;\">\n",
       "      <th></th>\n",
       "      <th>global_index</th>\n",
       "      <th>last_sale_price</th>\n",
       "    </tr>\n",
       "  </thead>\n",
       "  <tbody>\n",
       "    <tr>\n",
       "      <th>0</th>\n",
       "      <td>0</td>\n",
       "      <td>0.385773</td>\n",
       "    </tr>\n",
       "    <tr>\n",
       "      <th>1</th>\n",
       "      <td>1</td>\n",
       "      <td>0.385773</td>\n",
       "    </tr>\n",
       "    <tr>\n",
       "      <th>2</th>\n",
       "      <td>2</td>\n",
       "      <td>0.385773</td>\n",
       "    </tr>\n",
       "    <tr>\n",
       "      <th>3</th>\n",
       "      <td>3</td>\n",
       "      <td>0.385773</td>\n",
       "    </tr>\n",
       "    <tr>\n",
       "      <th>4</th>\n",
       "      <td>4</td>\n",
       "      <td>0.385773</td>\n",
       "    </tr>\n",
       "    <tr>\n",
       "      <th>...</th>\n",
       "      <td>...</td>\n",
       "      <td>...</td>\n",
       "    </tr>\n",
       "    <tr>\n",
       "      <th>181209</th>\n",
       "      <td>618137</td>\n",
       "      <td>0.005363</td>\n",
       "    </tr>\n",
       "    <tr>\n",
       "      <th>181210</th>\n",
       "      <td>618138</td>\n",
       "      <td>0.005363</td>\n",
       "    </tr>\n",
       "    <tr>\n",
       "      <th>181211</th>\n",
       "      <td>618139</td>\n",
       "      <td>0.005363</td>\n",
       "    </tr>\n",
       "    <tr>\n",
       "      <th>181212</th>\n",
       "      <td>618140</td>\n",
       "      <td>0.005363</td>\n",
       "    </tr>\n",
       "    <tr>\n",
       "      <th>181213</th>\n",
       "      <td>618141</td>\n",
       "      <td>0.005363</td>\n",
       "    </tr>\n",
       "  </tbody>\n",
       "</table>\n",
       "<p>181214 rows × 2 columns</p>\n",
       "</div>"
      ],
      "text/plain": [
       "        global_index  last_sale_price\n",
       "0                  0         0.385773\n",
       "1                  1         0.385773\n",
       "2                  2         0.385773\n",
       "3                  3         0.385773\n",
       "4                  4         0.385773\n",
       "...              ...              ...\n",
       "181209        618137         0.005363\n",
       "181210        618138         0.005363\n",
       "181211        618139         0.005363\n",
       "181212        618140         0.005363\n",
       "181213        618141         0.005363\n",
       "\n",
       "[181214 rows x 2 columns]"
      ]
     },
     "execution_count": 335,
     "metadata": {},
     "output_type": "execute_result"
    }
   ],
   "source": [
    "sub.drop_duplicates()"
   ]
  },
  {
   "cell_type": "code",
   "execution_count": 334,
   "id": "37841ff9",
   "metadata": {},
   "outputs": [],
   "source": [
    "sub.to_csv(r\"E:\\My Doucuments\\Machine Learning\\NFT\\NFT_Pred.csv\")"
   ]
  },
  {
   "cell_type": "code",
   "execution_count": null,
   "id": "927854da",
   "metadata": {},
   "outputs": [],
   "source": []
  },
  {
   "cell_type": "markdown",
   "id": "be78c2ed",
   "metadata": {},
   "source": [
    "# Trial 2: Variations in EDA"
   ]
  },
  {
   "cell_type": "markdown",
   "id": "dd21f546",
   "metadata": {},
   "source": [
    "### We only remove the global_index"
   ]
  },
  {
   "cell_type": "code",
   "execution_count": 352,
   "id": "bc6e86eb",
   "metadata": {
    "scrolled": false
   },
   "outputs": [
    {
     "data": {
      "text/html": [
       "<div>\n",
       "<style scoped>\n",
       "    .dataframe tbody tr th:only-of-type {\n",
       "        vertical-align: middle;\n",
       "    }\n",
       "\n",
       "    .dataframe tbody tr th {\n",
       "        vertical-align: top;\n",
       "    }\n",
       "\n",
       "    .dataframe thead th {\n",
       "        text-align: right;\n",
       "    }\n",
       "</style>\n",
       "<table border=\"1\" class=\"dataframe\">\n",
       "  <thead>\n",
       "    <tr style=\"text-align: right;\">\n",
       "      <th></th>\n",
       "      <th>global_index</th>\n",
       "      <th>nft_id</th>\n",
       "      <th>collection_id</th>\n",
       "      <th>rarity_score</th>\n",
       "      <th>n_tweets_in_range</th>\n",
       "      <th>avg_likes</th>\n",
       "      <th>avg_replies</th>\n",
       "      <th>avg_retweets</th>\n",
       "      <th>min_likes</th>\n",
       "      <th>min_replies</th>\n",
       "      <th>min_retweets</th>\n",
       "      <th>max_likes</th>\n",
       "      <th>max_replies</th>\n",
       "      <th>max_retweets</th>\n",
       "      <th>total_supply</th>\n",
       "      <th>verification_status</th>\n",
       "      <th>n_of_traits</th>\n",
       "      <th>contract_type</th>\n",
       "      <th>seller_fees</th>\n",
       "      <th>has_website</th>\n",
       "      <th>has_own_twitter</th>\n",
       "      <th>has_discord</th>\n",
       "      <th>has_medium</th>\n",
       "      <th>year</th>\n",
       "      <th>day</th>\n",
       "      <th>creation_day</th>\n",
       "      <th>creation_year</th>\n",
       "    </tr>\n",
       "  </thead>\n",
       "  <tbody>\n",
       "    <tr>\n",
       "      <th>0</th>\n",
       "      <td>21928</td>\n",
       "      <td>0</td>\n",
       "      <td>49</td>\n",
       "      <td>2.000000</td>\n",
       "      <td>31</td>\n",
       "      <td>187.967742</td>\n",
       "      <td>8.290323</td>\n",
       "      <td>60.935484</td>\n",
       "      <td>0</td>\n",
       "      <td>0</td>\n",
       "      <td>2</td>\n",
       "      <td>591</td>\n",
       "      <td>28</td>\n",
       "      <td>380</td>\n",
       "      <td>1</td>\n",
       "      <td>1</td>\n",
       "      <td>2</td>\n",
       "      <td>1</td>\n",
       "      <td>1000.0</td>\n",
       "      <td>False</td>\n",
       "      <td>True</td>\n",
       "      <td>True</td>\n",
       "      <td>False</td>\n",
       "      <td>1</td>\n",
       "      <td>11</td>\n",
       "      <td>4</td>\n",
       "      <td>1</td>\n",
       "    </tr>\n",
       "    <tr>\n",
       "      <th>1</th>\n",
       "      <td>32621</td>\n",
       "      <td>0</td>\n",
       "      <td>45</td>\n",
       "      <td>97.077216</td>\n",
       "      <td>11</td>\n",
       "      <td>133.181818</td>\n",
       "      <td>13.454545</td>\n",
       "      <td>55.181818</td>\n",
       "      <td>0</td>\n",
       "      <td>0</td>\n",
       "      <td>7</td>\n",
       "      <td>402</td>\n",
       "      <td>47</td>\n",
       "      <td>239</td>\n",
       "      <td>8888</td>\n",
       "      <td>1</td>\n",
       "      <td>5</td>\n",
       "      <td>1</td>\n",
       "      <td>500.0</td>\n",
       "      <td>False</td>\n",
       "      <td>True</td>\n",
       "      <td>True</td>\n",
       "      <td>False</td>\n",
       "      <td>0</td>\n",
       "      <td>8</td>\n",
       "      <td>7</td>\n",
       "      <td>0</td>\n",
       "    </tr>\n",
       "    <tr>\n",
       "      <th>2</th>\n",
       "      <td>32622</td>\n",
       "      <td>1</td>\n",
       "      <td>45</td>\n",
       "      <td>139.453086</td>\n",
       "      <td>11</td>\n",
       "      <td>133.181818</td>\n",
       "      <td>13.454545</td>\n",
       "      <td>55.181818</td>\n",
       "      <td>0</td>\n",
       "      <td>0</td>\n",
       "      <td>7</td>\n",
       "      <td>402</td>\n",
       "      <td>47</td>\n",
       "      <td>239</td>\n",
       "      <td>8888</td>\n",
       "      <td>1</td>\n",
       "      <td>5</td>\n",
       "      <td>1</td>\n",
       "      <td>500.0</td>\n",
       "      <td>False</td>\n",
       "      <td>True</td>\n",
       "      <td>True</td>\n",
       "      <td>False</td>\n",
       "      <td>1</td>\n",
       "      <td>8</td>\n",
       "      <td>7</td>\n",
       "      <td>0</td>\n",
       "    </tr>\n",
       "    <tr>\n",
       "      <th>3</th>\n",
       "      <td>32623</td>\n",
       "      <td>2</td>\n",
       "      <td>45</td>\n",
       "      <td>127.753445</td>\n",
       "      <td>11</td>\n",
       "      <td>133.181818</td>\n",
       "      <td>13.454545</td>\n",
       "      <td>55.181818</td>\n",
       "      <td>0</td>\n",
       "      <td>0</td>\n",
       "      <td>7</td>\n",
       "      <td>402</td>\n",
       "      <td>47</td>\n",
       "      <td>239</td>\n",
       "      <td>8888</td>\n",
       "      <td>1</td>\n",
       "      <td>5</td>\n",
       "      <td>1</td>\n",
       "      <td>500.0</td>\n",
       "      <td>False</td>\n",
       "      <td>True</td>\n",
       "      <td>True</td>\n",
       "      <td>False</td>\n",
       "      <td>0</td>\n",
       "      <td>8</td>\n",
       "      <td>7</td>\n",
       "      <td>0</td>\n",
       "    </tr>\n",
       "    <tr>\n",
       "      <th>4</th>\n",
       "      <td>32624</td>\n",
       "      <td>3</td>\n",
       "      <td>45</td>\n",
       "      <td>112.315719</td>\n",
       "      <td>11</td>\n",
       "      <td>133.181818</td>\n",
       "      <td>13.454545</td>\n",
       "      <td>55.181818</td>\n",
       "      <td>0</td>\n",
       "      <td>0</td>\n",
       "      <td>7</td>\n",
       "      <td>402</td>\n",
       "      <td>47</td>\n",
       "      <td>239</td>\n",
       "      <td>8888</td>\n",
       "      <td>1</td>\n",
       "      <td>5</td>\n",
       "      <td>1</td>\n",
       "      <td>500.0</td>\n",
       "      <td>False</td>\n",
       "      <td>True</td>\n",
       "      <td>True</td>\n",
       "      <td>False</td>\n",
       "      <td>1</td>\n",
       "      <td>9</td>\n",
       "      <td>7</td>\n",
       "      <td>0</td>\n",
       "    </tr>\n",
       "  </tbody>\n",
       "</table>\n",
       "</div>"
      ],
      "text/plain": [
       "   global_index  nft_id  collection_id  rarity_score  n_tweets_in_range  \\\n",
       "0         21928       0             49      2.000000                 31   \n",
       "1         32621       0             45     97.077216                 11   \n",
       "2         32622       1             45    139.453086                 11   \n",
       "3         32623       2             45    127.753445                 11   \n",
       "4         32624       3             45    112.315719                 11   \n",
       "\n",
       "    avg_likes  avg_replies  avg_retweets  min_likes  min_replies  \\\n",
       "0  187.967742     8.290323     60.935484          0            0   \n",
       "1  133.181818    13.454545     55.181818          0            0   \n",
       "2  133.181818    13.454545     55.181818          0            0   \n",
       "3  133.181818    13.454545     55.181818          0            0   \n",
       "4  133.181818    13.454545     55.181818          0            0   \n",
       "\n",
       "   min_retweets  max_likes  max_replies  max_retweets  total_supply  \\\n",
       "0             2        591           28           380             1   \n",
       "1             7        402           47           239          8888   \n",
       "2             7        402           47           239          8888   \n",
       "3             7        402           47           239          8888   \n",
       "4             7        402           47           239          8888   \n",
       "\n",
       "   verification_status  n_of_traits  contract_type  seller_fees  has_website  \\\n",
       "0                    1            2              1       1000.0        False   \n",
       "1                    1            5              1        500.0        False   \n",
       "2                    1            5              1        500.0        False   \n",
       "3                    1            5              1        500.0        False   \n",
       "4                    1            5              1        500.0        False   \n",
       "\n",
       "   has_own_twitter  has_discord  has_medium  year  day  creation_day  \\\n",
       "0             True         True       False     1   11             4   \n",
       "1             True         True       False     0    8             7   \n",
       "2             True         True       False     1    8             7   \n",
       "3             True         True       False     0    8             7   \n",
       "4             True         True       False     1    9             7   \n",
       "\n",
       "   creation_year  \n",
       "0              1  \n",
       "1              0  \n",
       "2              0  \n",
       "3              0  \n",
       "4              0  "
      ]
     },
     "execution_count": 352,
     "metadata": {},
     "output_type": "execute_result"
    }
   ],
   "source": [
    "X.head()"
   ]
  },
  {
   "cell_type": "code",
   "execution_count": 402,
   "id": "c926c7d2",
   "metadata": {},
   "outputs": [
    {
     "data": {
      "text/plain": [
       "(309910, 26)"
      ]
     },
     "execution_count": 402,
     "metadata": {},
     "output_type": "execute_result"
    }
   ],
   "source": [
    "X.shape"
   ]
  },
  {
   "cell_type": "code",
   "execution_count": 397,
   "id": "bb7e2fb0",
   "metadata": {},
   "outputs": [
    {
     "data": {
      "text/plain": [
       "(181214, 27)"
      ]
     },
     "execution_count": 397,
     "metadata": {},
     "output_type": "execute_result"
    }
   ],
   "source": [
    "test.shape"
   ]
  },
  {
   "cell_type": "code",
   "execution_count": 354,
   "id": "605a4cd6",
   "metadata": {
    "scrolled": true
   },
   "outputs": [
    {
     "data": {
      "text/plain": [
       "array([    0,     1,     2, ..., 29896, 29897, 29898], dtype=int64)"
      ]
     },
     "execution_count": 354,
     "metadata": {},
     "output_type": "execute_result"
    }
   ],
   "source": [
    "X.nft_id.unique()"
   ]
  },
  {
   "cell_type": "code",
   "execution_count": 364,
   "id": "e5a7c94d",
   "metadata": {
    "scrolled": true
   },
   "outputs": [
    {
     "data": {
      "text/plain": [
       "array([49, 45, 54, 30,  0, 58, 15, 23,  7, 38, 31, 50, 37,  1,  8, 57, 59,\n",
       "       19,  6, 48, 14, 36, 25, 13, 43, 18, 60, 44, 24, 51, 46, 34, 26,  4],\n",
       "      dtype=int64)"
      ]
     },
     "execution_count": 364,
     "metadata": {},
     "output_type": "execute_result"
    }
   ],
   "source": [
    "X.collection_id.unique()"
   ]
  },
  {
   "cell_type": "code",
   "execution_count": 365,
   "id": "23bf253f",
   "metadata": {},
   "outputs": [
    {
     "data": {
      "text/plain": [
       "(29899,)"
      ]
     },
     "execution_count": 365,
     "metadata": {},
     "output_type": "execute_result"
    }
   ],
   "source": [
    "X.nft_id.value_counts().shape"
   ]
  },
  {
   "cell_type": "code",
   "execution_count": 366,
   "id": "c6589918",
   "metadata": {},
   "outputs": [
    {
     "data": {
      "text/plain": [
       "(287582,)"
      ]
     },
     "execution_count": 366,
     "metadata": {},
     "output_type": "execute_result"
    }
   ],
   "source": [
    "X.rarity_score.value_counts().shape"
   ]
  },
  {
   "cell_type": "code",
   "execution_count": null,
   "id": "72360402",
   "metadata": {},
   "outputs": [],
   "source": [
    "X = X.drop(['global_index'],axis = 1)\n",
    "test = test.drop(['global_index'],axis = 1)"
   ]
  },
  {
   "cell_type": "code",
   "execution_count": 404,
   "id": "ab99e7cd",
   "metadata": {
    "scrolled": true
   },
   "outputs": [
    {
     "name": "stdout",
     "output_type": "stream",
     "text": [
      "(309910, 26) (181214, 26)\n"
     ]
    }
   ],
   "source": [
    "print(X.shape,test.shape)"
   ]
  },
  {
   "cell_type": "code",
   "execution_count": 406,
   "id": "a05dcb9c",
   "metadata": {},
   "outputs": [
    {
     "data": {
      "text/plain": [
       "array([ 31,  11,  19,  13,   2,   3,  18,  35,  12,   4, 151,   8,  16,\n",
       "        40,   6,  15,   5,  43,   1,  26,   7,   9], dtype=int64)"
      ]
     },
     "execution_count": 406,
     "metadata": {},
     "output_type": "execute_result"
    }
   ],
   "source": [
    "X.n_tweets_in_range.unique()"
   ]
  },
  {
   "cell_type": "code",
   "execution_count": 405,
   "id": "9490909e",
   "metadata": {},
   "outputs": [],
   "source": [
    "X.avg_likes = X.avg_likes.apply(lambda x: round(x))\n",
    "test.avg_likes = test.avg_likes.apply(lambda x: round(x))"
   ]
  },
  {
   "cell_type": "code",
   "execution_count": 407,
   "id": "68d43ce3",
   "metadata": {},
   "outputs": [
    {
     "data": {
      "text/plain": [
       "array([188, 133,   0, 317, 183,   7,  10,  51, 256, 227,  76,  36,   8,\n",
       "        32, 591,  43,  19,  11,   2,  24,  12, 241, 708, 594,   5,  61],\n",
       "      dtype=int64)"
      ]
     },
     "execution_count": 407,
     "metadata": {},
     "output_type": "execute_result"
    }
   ],
   "source": [
    "X.avg_likes.unique()"
   ]
  },
  {
   "cell_type": "code",
   "execution_count": 416,
   "id": "7a21c736",
   "metadata": {
    "scrolled": true
   },
   "outputs": [
    {
     "data": {
      "text/plain": [
       "array([1000.        ,  500.        ,  750.        ,  800.        ,\n",
       "        250.        ,  711.95652174,  900.        ,  550.        ])"
      ]
     },
     "execution_count": 416,
     "metadata": {},
     "output_type": "execute_result"
    }
   ],
   "source": [
    "X.seller_fees.unique()"
   ]
  },
  {
   "cell_type": "code",
   "execution_count": 420,
   "id": "40c1d9ab",
   "metadata": {},
   "outputs": [],
   "source": [
    "X_train,X_test,y_train,y_test = train_test_split(X,y,test_size = 0.15,random_state= 72)"
   ]
  },
  {
   "cell_type": "code",
   "execution_count": 422,
   "id": "b00e6b34",
   "metadata": {},
   "outputs": [
    {
     "data": {
      "text/plain": [
       "(263423, 26)"
      ]
     },
     "execution_count": 422,
     "metadata": {},
     "output_type": "execute_result"
    }
   ],
   "source": [
    "X_train.shape"
   ]
  },
  {
   "cell_type": "markdown",
   "id": "95c687c7",
   "metadata": {},
   "source": [
    "## Decision Tree"
   ]
  },
  {
   "cell_type": "code",
   "execution_count": 376,
   "id": "2b29886c",
   "metadata": {},
   "outputs": [],
   "source": [
    "dt.fit(X_train,y_train)\n",
    "res = dt.predict(X_test)"
   ]
  },
  {
   "cell_type": "code",
   "execution_count": 377,
   "id": "992b34e9",
   "metadata": {
    "scrolled": true
   },
   "outputs": [
    {
     "name": "stdout",
     "output_type": "stream",
     "text": [
      "7.402497779410711\n"
     ]
    }
   ],
   "source": [
    "print(sqrt(mean_squared_error(y_test, res)))"
   ]
  },
  {
   "cell_type": "markdown",
   "id": "421d8fe2",
   "metadata": {},
   "source": [
    "### Parameter Tuning"
   ]
  },
  {
   "cell_type": "code",
   "execution_count": 423,
   "id": "7793ea3a",
   "metadata": {},
   "outputs": [],
   "source": [
    "param_grid= [\n",
    "    {\n",
    "        'criterion': ['squared_error', 'poisson'],\n",
    "        'max_depth': [3,4,5,6,7],\n",
    "        \"max_leaf_nodes\": [30,40,50,62,70,75,80],\n",
    "    }\n",
    "]"
   ]
  },
  {
   "cell_type": "code",
   "execution_count": 424,
   "id": "ad768af4",
   "metadata": {},
   "outputs": [],
   "source": [
    "opt_par = GridSearchCV(DecisionTreeRegressor(), param_grid, cv=5)"
   ]
  },
  {
   "cell_type": "code",
   "execution_count": 425,
   "id": "76e638a1",
   "metadata": {
    "scrolled": true
   },
   "outputs": [
    {
     "data": {
      "text/plain": [
       "{'criterion': 'squared_error', 'max_depth': 5, 'max_leaf_nodes': 62}"
      ]
     },
     "execution_count": 425,
     "metadata": {},
     "output_type": "execute_result"
    }
   ],
   "source": [
    "opt_par.fit(X_train,y_train)\n",
    "res_3 = opt_par.predict(X_test)\n",
    "opt_par.best_params_"
   ]
  },
  {
   "cell_type": "code",
   "execution_count": 418,
   "id": "d18f35f9",
   "metadata": {},
   "outputs": [],
   "source": [
    "res_2 = res"
   ]
  },
  {
   "cell_type": "code",
   "execution_count": 419,
   "id": "af8b0b6b",
   "metadata": {},
   "outputs": [
    {
     "name": "stdout",
     "output_type": "stream",
     "text": [
      "6.6638173047240485\n"
     ]
    }
   ],
   "source": [
    "print(sqrt(mean_squared_error(y_test, res_2)))"
   ]
  },
  {
   "cell_type": "code",
   "execution_count": 426,
   "id": "6be71bce",
   "metadata": {},
   "outputs": [
    {
     "name": "stdout",
     "output_type": "stream",
     "text": [
      "6.665451510484303\n"
     ]
    }
   ],
   "source": [
    "print(sqrt(mean_squared_error(y_test, res_3)))"
   ]
  },
  {
   "cell_type": "code",
   "execution_count": 431,
   "id": "e91eaa30",
   "metadata": {},
   "outputs": [
    {
     "data": {
      "text/plain": [
       "array([0.24664408, 0.24664408, 0.24664408, ..., 0.00531337, 0.00531337,\n",
       "       0.00531337])"
      ]
     },
     "execution_count": 431,
     "metadata": {},
     "output_type": "execute_result"
    }
   ],
   "source": [
    "final2 = opt_par.predict(test)\n",
    "final2"
   ]
  },
  {
   "cell_type": "code",
   "execution_count": 433,
   "id": "e39a5d86",
   "metadata": {},
   "outputs": [
    {
     "data": {
      "text/plain": [
       "0         0.246644\n",
       "1         0.246644\n",
       "2         0.246644\n",
       "3         0.246644\n",
       "4         0.246644\n",
       "            ...   \n",
       "181209    0.005313\n",
       "181210    0.005313\n",
       "181211    0.005313\n",
       "181212    0.005313\n",
       "181213    0.005313\n",
       "Name: last_sale_price, Length: 181214, dtype: float64"
      ]
     },
     "execution_count": 433,
     "metadata": {},
     "output_type": "execute_result"
    }
   ],
   "source": [
    "data_test['last_sale_price'] = final2.tolist() \n",
    "data_test['last_sale_price']"
   ]
  },
  {
   "cell_type": "code",
   "execution_count": 435,
   "id": "529b769f",
   "metadata": {},
   "outputs": [
    {
     "data": {
      "text/html": [
       "<div>\n",
       "<style scoped>\n",
       "    .dataframe tbody tr th:only-of-type {\n",
       "        vertical-align: middle;\n",
       "    }\n",
       "\n",
       "    .dataframe tbody tr th {\n",
       "        vertical-align: top;\n",
       "    }\n",
       "\n",
       "    .dataframe thead th {\n",
       "        text-align: right;\n",
       "    }\n",
       "</style>\n",
       "<table border=\"1\" class=\"dataframe\">\n",
       "  <thead>\n",
       "    <tr style=\"text-align: right;\">\n",
       "      <th></th>\n",
       "      <th>global_index</th>\n",
       "      <th>last_sale_price</th>\n",
       "    </tr>\n",
       "  </thead>\n",
       "  <tbody>\n",
       "    <tr>\n",
       "      <th>0</th>\n",
       "      <td>0</td>\n",
       "      <td>0.246644</td>\n",
       "    </tr>\n",
       "    <tr>\n",
       "      <th>1</th>\n",
       "      <td>1</td>\n",
       "      <td>0.246644</td>\n",
       "    </tr>\n",
       "    <tr>\n",
       "      <th>2</th>\n",
       "      <td>2</td>\n",
       "      <td>0.246644</td>\n",
       "    </tr>\n",
       "    <tr>\n",
       "      <th>3</th>\n",
       "      <td>3</td>\n",
       "      <td>0.246644</td>\n",
       "    </tr>\n",
       "    <tr>\n",
       "      <th>4</th>\n",
       "      <td>4</td>\n",
       "      <td>0.246644</td>\n",
       "    </tr>\n",
       "    <tr>\n",
       "      <th>...</th>\n",
       "      <td>...</td>\n",
       "      <td>...</td>\n",
       "    </tr>\n",
       "    <tr>\n",
       "      <th>181209</th>\n",
       "      <td>618137</td>\n",
       "      <td>0.005313</td>\n",
       "    </tr>\n",
       "    <tr>\n",
       "      <th>181210</th>\n",
       "      <td>618138</td>\n",
       "      <td>0.005313</td>\n",
       "    </tr>\n",
       "    <tr>\n",
       "      <th>181211</th>\n",
       "      <td>618139</td>\n",
       "      <td>0.005313</td>\n",
       "    </tr>\n",
       "    <tr>\n",
       "      <th>181212</th>\n",
       "      <td>618140</td>\n",
       "      <td>0.005313</td>\n",
       "    </tr>\n",
       "    <tr>\n",
       "      <th>181213</th>\n",
       "      <td>618141</td>\n",
       "      <td>0.005313</td>\n",
       "    </tr>\n",
       "  </tbody>\n",
       "</table>\n",
       "<p>181214 rows × 2 columns</p>\n",
       "</div>"
      ],
      "text/plain": [
       "        global_index  last_sale_price\n",
       "0                  0         0.246644\n",
       "1                  1         0.246644\n",
       "2                  2         0.246644\n",
       "3                  3         0.246644\n",
       "4                  4         0.246644\n",
       "...              ...              ...\n",
       "181209        618137         0.005313\n",
       "181210        618138         0.005313\n",
       "181211        618139         0.005313\n",
       "181212        618140         0.005313\n",
       "181213        618141         0.005313\n",
       "\n",
       "[181214 rows x 2 columns]"
      ]
     },
     "execution_count": 435,
     "metadata": {},
     "output_type": "execute_result"
    }
   ],
   "source": [
    "sub = data_test[['global_index','last_sale_price']]\n",
    "sub"
   ]
  },
  {
   "cell_type": "code",
   "execution_count": 437,
   "id": "931594c2",
   "metadata": {},
   "outputs": [],
   "source": [
    "sub.to_csv(r\"E:\\My Doucuments\\Machine Learning\\NFT\\NFT_Pred3.csv\")"
   ]
  },
  {
   "cell_type": "code",
   "execution_count": null,
   "id": "5774eeba",
   "metadata": {},
   "outputs": [],
   "source": []
  }
 ],
 "metadata": {
  "kernelspec": {
   "display_name": "Python 3 (ipykernel)",
   "language": "python",
   "name": "python3"
  },
  "language_info": {
   "codemirror_mode": {
    "name": "ipython",
    "version": 3
   },
   "file_extension": ".py",
   "mimetype": "text/x-python",
   "name": "python",
   "nbconvert_exporter": "python",
   "pygments_lexer": "ipython3",
   "version": "3.9.12"
  }
 },
 "nbformat": 4,
 "nbformat_minor": 5
}
